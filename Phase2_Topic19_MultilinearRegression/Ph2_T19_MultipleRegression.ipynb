{
 "cells": [
  {
   "cell_type": "markdown",
   "metadata": {
    "slideshow": {
     "slide_type": "slide"
    }
   },
   "source": [
    "<div style=\"color:white;\n",
    "           display:fill;\n",
    "           border-radius:5px;\n",
    "           background-color:#5642C5;\n",
    "           font-size:200%;\n",
    "           font-family:Arial;letter-spacing:0.5px\">\n",
    "\n",
    "<p width = 20%, style=\"padding: 10px;\n",
    "              color:white;\">\n",
    "Multivariate Linear Regression\n",
    "              \n",
    "</p>\n",
    "</div>\n",
    "\n",
    "Data Science Cohort Live NYC Feb 2022\n",
    "<p>Phase 2: Topic 19</p>\n",
    "<br>\n",
    "<br>\n",
    "\n",
    "<div align = \"right\">\n",
    "<img src=\"Images/flatiron-school-logo.png\" align = \"right\" width=\"200\"/>\n",
    "</div>\n",
    "    \n",
    "    "
   ]
  },
  {
   "cell_type": "markdown",
   "metadata": {
    "slideshow": {
     "slide_type": "slide"
    }
   },
   "source": [
    "\n",
    "The king wants you to:\n",
    "- estimate the average life expectancy of his subjects. \n",
    "- speculate on what factors might be at play in determining the average life of his subject. \n",
    "\n"
   ]
  },
  {
   "cell_type": "markdown",
   "metadata": {
    "slideshow": {
     "slide_type": "slide"
    }
   },
   "source": [
    "WHO: compiled data across many countries\n",
    "- socioeconomic data\n",
    "- health data \n",
    "- average life expectancy. "
   ]
  },
  {
   "cell_type": "markdown",
   "metadata": {
    "cell_style": "split",
    "slideshow": {
     "slide_type": "slide"
    }
   },
   "source": [
    "First task:\n",
    "\n",
    "- Understand factors affecting life expectancy throughout the world\n",
    "- Do this with multivariate linear regression."
   ]
  },
  {
   "cell_type": "markdown",
   "metadata": {
    "cell_style": "split",
    "slideshow": {
     "slide_type": "fragment"
    }
   },
   "source": [
    "Later task:\n",
    "\n",
    "*Can we use this to help us with our problem in Zamunda?*"
   ]
  },
  {
   "cell_type": "code",
   "execution_count": 5,
   "metadata": {
    "slideshow": {
     "slide_type": "skip"
    }
   },
   "outputs": [],
   "source": [
    "import numpy as np\n",
    "import pandas as pd\n",
    "\n",
    "import seaborn as sns\n",
    "import statsmodels.api as sm\n",
    "\n",
    "\n",
    "import matplotlib.pyplot as plt\n",
    "\n",
    "\n",
    "sns.set_context(\"notebook\")\n",
    "sns.set_palette(\"tab10\")\n",
    "\n"
   ]
  },
  {
   "cell_type": "markdown",
   "metadata": {
    "slideshow": {
     "slide_type": "slide"
    }
   },
   "source": [
    "WHO dataset contains data from 2000-2015 on average life expectancy and the prevalance of certain diseases (HIV, alcoholism, polio, etc.) and socioeconomic factors (GDP, schooling) across many different countries."
   ]
  },
  {
   "cell_type": "code",
   "execution_count": 33,
   "id": "5626ee33",
   "metadata": {
    "slideshow": {
     "slide_type": "fragment"
    }
   },
   "outputs": [],
   "source": [
    "# load data\n",
    "file_path = \"Data/WHO_life.csv\"\n",
    "df = pd.read_csv(file_path)"
   ]
  },
  {
   "cell_type": "code",
   "execution_count": 34,
   "id": "656839b9",
   "metadata": {
    "scrolled": true,
    "slideshow": {
     "slide_type": "fragment"
    }
   },
   "outputs": [
    {
     "data": {
      "text/html": [
       "<div>\n",
       "<style scoped>\n",
       "    .dataframe tbody tr th:only-of-type {\n",
       "        vertical-align: middle;\n",
       "    }\n",
       "\n",
       "    .dataframe tbody tr th {\n",
       "        vertical-align: top;\n",
       "    }\n",
       "\n",
       "    .dataframe thead th {\n",
       "        text-align: right;\n",
       "    }\n",
       "</style>\n",
       "<table border=\"1\" class=\"dataframe\">\n",
       "  <thead>\n",
       "    <tr style=\"text-align: right;\">\n",
       "      <th></th>\n",
       "      <th>Country</th>\n",
       "      <th>Year</th>\n",
       "      <th>Status</th>\n",
       "      <th>Life expectancy</th>\n",
       "      <th>Adult Mortality</th>\n",
       "      <th>infant deaths</th>\n",
       "      <th>Alcohol</th>\n",
       "      <th>percentage expenditure</th>\n",
       "      <th>Hepatitis B</th>\n",
       "      <th>Measles</th>\n",
       "      <th>...</th>\n",
       "      <th>Polio</th>\n",
       "      <th>Total expenditure</th>\n",
       "      <th>Diphtheria</th>\n",
       "      <th>HIV/AIDS</th>\n",
       "      <th>GDP</th>\n",
       "      <th>Population</th>\n",
       "      <th>thinness  1-19 years</th>\n",
       "      <th>thinness 5-9 years</th>\n",
       "      <th>Income composition of resources</th>\n",
       "      <th>Schooling</th>\n",
       "    </tr>\n",
       "  </thead>\n",
       "  <tbody>\n",
       "    <tr>\n",
       "      <th>0</th>\n",
       "      <td>Afghanistan</td>\n",
       "      <td>2015</td>\n",
       "      <td>Developing</td>\n",
       "      <td>65.0</td>\n",
       "      <td>263.0</td>\n",
       "      <td>62</td>\n",
       "      <td>0.01</td>\n",
       "      <td>71.279624</td>\n",
       "      <td>65.0</td>\n",
       "      <td>1154</td>\n",
       "      <td>...</td>\n",
       "      <td>6.0</td>\n",
       "      <td>8.16</td>\n",
       "      <td>65.0</td>\n",
       "      <td>0.1</td>\n",
       "      <td>584.259210</td>\n",
       "      <td>33736494.0</td>\n",
       "      <td>17.2</td>\n",
       "      <td>17.3</td>\n",
       "      <td>0.479</td>\n",
       "      <td>10.1</td>\n",
       "    </tr>\n",
       "    <tr>\n",
       "      <th>1</th>\n",
       "      <td>Afghanistan</td>\n",
       "      <td>2014</td>\n",
       "      <td>Developing</td>\n",
       "      <td>59.9</td>\n",
       "      <td>271.0</td>\n",
       "      <td>64</td>\n",
       "      <td>0.01</td>\n",
       "      <td>73.523582</td>\n",
       "      <td>62.0</td>\n",
       "      <td>492</td>\n",
       "      <td>...</td>\n",
       "      <td>58.0</td>\n",
       "      <td>8.18</td>\n",
       "      <td>62.0</td>\n",
       "      <td>0.1</td>\n",
       "      <td>612.696514</td>\n",
       "      <td>327582.0</td>\n",
       "      <td>17.5</td>\n",
       "      <td>17.5</td>\n",
       "      <td>0.476</td>\n",
       "      <td>10.0</td>\n",
       "    </tr>\n",
       "    <tr>\n",
       "      <th>2</th>\n",
       "      <td>Afghanistan</td>\n",
       "      <td>2013</td>\n",
       "      <td>Developing</td>\n",
       "      <td>59.9</td>\n",
       "      <td>268.0</td>\n",
       "      <td>66</td>\n",
       "      <td>0.01</td>\n",
       "      <td>73.219243</td>\n",
       "      <td>64.0</td>\n",
       "      <td>430</td>\n",
       "      <td>...</td>\n",
       "      <td>62.0</td>\n",
       "      <td>8.13</td>\n",
       "      <td>64.0</td>\n",
       "      <td>0.1</td>\n",
       "      <td>631.744976</td>\n",
       "      <td>31731688.0</td>\n",
       "      <td>17.7</td>\n",
       "      <td>17.7</td>\n",
       "      <td>0.470</td>\n",
       "      <td>9.9</td>\n",
       "    </tr>\n",
       "    <tr>\n",
       "      <th>3</th>\n",
       "      <td>Afghanistan</td>\n",
       "      <td>2012</td>\n",
       "      <td>Developing</td>\n",
       "      <td>59.5</td>\n",
       "      <td>272.0</td>\n",
       "      <td>69</td>\n",
       "      <td>0.01</td>\n",
       "      <td>78.184215</td>\n",
       "      <td>67.0</td>\n",
       "      <td>2787</td>\n",
       "      <td>...</td>\n",
       "      <td>67.0</td>\n",
       "      <td>8.52</td>\n",
       "      <td>67.0</td>\n",
       "      <td>0.1</td>\n",
       "      <td>669.959000</td>\n",
       "      <td>3696958.0</td>\n",
       "      <td>17.9</td>\n",
       "      <td>18.0</td>\n",
       "      <td>0.463</td>\n",
       "      <td>9.8</td>\n",
       "    </tr>\n",
       "    <tr>\n",
       "      <th>4</th>\n",
       "      <td>Afghanistan</td>\n",
       "      <td>2011</td>\n",
       "      <td>Developing</td>\n",
       "      <td>59.2</td>\n",
       "      <td>275.0</td>\n",
       "      <td>71</td>\n",
       "      <td>0.01</td>\n",
       "      <td>7.097109</td>\n",
       "      <td>68.0</td>\n",
       "      <td>3013</td>\n",
       "      <td>...</td>\n",
       "      <td>68.0</td>\n",
       "      <td>7.87</td>\n",
       "      <td>68.0</td>\n",
       "      <td>0.1</td>\n",
       "      <td>63.537231</td>\n",
       "      <td>2978599.0</td>\n",
       "      <td>18.2</td>\n",
       "      <td>18.2</td>\n",
       "      <td>0.454</td>\n",
       "      <td>9.5</td>\n",
       "    </tr>\n",
       "  </tbody>\n",
       "</table>\n",
       "<p>5 rows × 22 columns</p>\n",
       "</div>"
      ],
      "text/plain": [
       "       Country  Year      Status  Life expectancy   Adult Mortality  \\\n",
       "0  Afghanistan  2015  Developing              65.0            263.0   \n",
       "1  Afghanistan  2014  Developing              59.9            271.0   \n",
       "2  Afghanistan  2013  Developing              59.9            268.0   \n",
       "3  Afghanistan  2012  Developing              59.5            272.0   \n",
       "4  Afghanistan  2011  Developing              59.2            275.0   \n",
       "\n",
       "   infant deaths  Alcohol  percentage expenditure  Hepatitis B  Measles   ...  \\\n",
       "0             62     0.01               71.279624         65.0      1154  ...   \n",
       "1             64     0.01               73.523582         62.0       492  ...   \n",
       "2             66     0.01               73.219243         64.0       430  ...   \n",
       "3             69     0.01               78.184215         67.0      2787  ...   \n",
       "4             71     0.01                7.097109         68.0      3013  ...   \n",
       "\n",
       "   Polio  Total expenditure  Diphtheria    HIV/AIDS         GDP  Population  \\\n",
       "0    6.0               8.16         65.0        0.1  584.259210  33736494.0   \n",
       "1   58.0               8.18         62.0        0.1  612.696514    327582.0   \n",
       "2   62.0               8.13         64.0        0.1  631.744976  31731688.0   \n",
       "3   67.0               8.52         67.0        0.1  669.959000   3696958.0   \n",
       "4   68.0               7.87         68.0        0.1   63.537231   2978599.0   \n",
       "\n",
       "    thinness  1-19 years   thinness 5-9 years  \\\n",
       "0                   17.2                 17.3   \n",
       "1                   17.5                 17.5   \n",
       "2                   17.7                 17.7   \n",
       "3                   17.9                 18.0   \n",
       "4                   18.2                 18.2   \n",
       "\n",
       "   Income composition of resources  Schooling  \n",
       "0                            0.479       10.1  \n",
       "1                            0.476       10.0  \n",
       "2                            0.470        9.9  \n",
       "3                            0.463        9.8  \n",
       "4                            0.454        9.5  \n",
       "\n",
       "[5 rows x 22 columns]"
      ]
     },
     "execution_count": 34,
     "metadata": {},
     "output_type": "execute_result"
    }
   ],
   "source": [
    "df.head()"
   ]
  },
  {
   "cell_type": "code",
   "execution_count": 35,
   "id": "33146ddd",
   "metadata": {
    "slideshow": {
     "slide_type": "slide"
    }
   },
   "outputs": [
    {
     "data": {
      "text/plain": [
       "Index(['Country', 'Year', 'Status', 'Life expectancy ', 'Adult Mortality',\n",
       "       'infant deaths', 'Alcohol', 'percentage expenditure', 'Hepatitis B',\n",
       "       'Measles ', ' BMI ', 'under-five deaths ', 'Polio', 'Total expenditure',\n",
       "       'Diphtheria ', ' HIV/AIDS', 'GDP', 'Population',\n",
       "       ' thinness  1-19 years', ' thinness 5-9 years',\n",
       "       'Income composition of resources', 'Schooling'],\n",
       "      dtype='object')"
      ]
     },
     "execution_count": 35,
     "metadata": {},
     "output_type": "execute_result"
    }
   ],
   "source": [
    "df.columns"
   ]
  },
  {
   "cell_type": "markdown",
   "metadata": {
    "slideshow": {
     "slide_type": "fragment"
    }
   },
   "source": [
    "Let's drop some columns that are too obviously correlated with the life expectancy (e.g., adult mortality, as an example). Also let's try and see if we can develop a robust relationship that is applicable  across country or country status. Let's also remove the year as a variable (data is over the past 15 years."
   ]
  },
  {
   "cell_type": "code",
   "execution_count": 36,
   "id": "5e29449f",
   "metadata": {
    "slideshow": {
     "slide_type": "fragment"
    }
   },
   "outputs": [],
   "source": [
    "df = df.drop(columns = ['Adult Mortality', 'infant deaths', 'Year', 'Status', 'under-five deaths ', 'Country'])"
   ]
  },
  {
   "cell_type": "code",
   "execution_count": 37,
   "id": "3ba5bb08",
   "metadata": {
    "slideshow": {
     "slide_type": "slide"
    }
   },
   "outputs": [
    {
     "name": "stdout",
     "output_type": "stream",
     "text": [
      "<class 'pandas.core.frame.DataFrame'>\n",
      "RangeIndex: 2938 entries, 0 to 2937\n",
      "Data columns (total 16 columns):\n",
      " #   Column                           Non-Null Count  Dtype  \n",
      "---  ------                           --------------  -----  \n",
      " 0   Life expectancy                  2928 non-null   float64\n",
      " 1   Alcohol                          2744 non-null   float64\n",
      " 2   percentage expenditure           2938 non-null   float64\n",
      " 3   Hepatitis B                      2385 non-null   float64\n",
      " 4   Measles                          2938 non-null   int64  \n",
      " 5    BMI                             2904 non-null   float64\n",
      " 6   Polio                            2919 non-null   float64\n",
      " 7   Total expenditure                2712 non-null   float64\n",
      " 8   Diphtheria                       2919 non-null   float64\n",
      " 9    HIV/AIDS                        2938 non-null   float64\n",
      " 10  GDP                              2490 non-null   float64\n",
      " 11  Population                       2286 non-null   float64\n",
      " 12   thinness  1-19 years            2904 non-null   float64\n",
      " 13   thinness 5-9 years              2904 non-null   float64\n",
      " 14  Income composition of resources  2771 non-null   float64\n",
      " 15  Schooling                        2775 non-null   float64\n",
      "dtypes: float64(15), int64(1)\n",
      "memory usage: 367.4 KB\n"
     ]
    }
   ],
   "source": [
    "df.info()"
   ]
  },
  {
   "cell_type": "markdown",
   "metadata": {
    "slideshow": {
     "slide_type": "fragment"
    }
   },
   "source": [
    "I'm going to \"clean\" this by just dropping all nans"
   ]
  },
  {
   "cell_type": "code",
   "execution_count": 38,
   "id": "16065eb0",
   "metadata": {
    "cell_style": "split",
    "slideshow": {
     "slide_type": "slide"
    }
   },
   "outputs": [],
   "source": [
    "df = df.dropna()"
   ]
  },
  {
   "cell_type": "markdown",
   "metadata": {
    "cell_style": "split",
    "slideshow": {
     "slide_type": "fragment"
    }
   },
   "source": [
    "Let's check it out. Should be no more NaNs."
   ]
  },
  {
   "cell_type": "code",
   "execution_count": 39,
   "id": "cf77a3c4",
   "metadata": {
    "cell_style": "center",
    "scrolled": true,
    "slideshow": {
     "slide_type": "fragment"
    }
   },
   "outputs": [
    {
     "name": "stdout",
     "output_type": "stream",
     "text": [
      "<class 'pandas.core.frame.DataFrame'>\n",
      "Int64Index: 1649 entries, 0 to 2937\n",
      "Data columns (total 16 columns):\n",
      " #   Column                           Non-Null Count  Dtype  \n",
      "---  ------                           --------------  -----  \n",
      " 0   Life expectancy                  1649 non-null   float64\n",
      " 1   Alcohol                          1649 non-null   float64\n",
      " 2   percentage expenditure           1649 non-null   float64\n",
      " 3   Hepatitis B                      1649 non-null   float64\n",
      " 4   Measles                          1649 non-null   int64  \n",
      " 5    BMI                             1649 non-null   float64\n",
      " 6   Polio                            1649 non-null   float64\n",
      " 7   Total expenditure                1649 non-null   float64\n",
      " 8   Diphtheria                       1649 non-null   float64\n",
      " 9    HIV/AIDS                        1649 non-null   float64\n",
      " 10  GDP                              1649 non-null   float64\n",
      " 11  Population                       1649 non-null   float64\n",
      " 12   thinness  1-19 years            1649 non-null   float64\n",
      " 13   thinness 5-9 years              1649 non-null   float64\n",
      " 14  Income composition of resources  1649 non-null   float64\n",
      " 15  Schooling                        1649 non-null   float64\n",
      "dtypes: float64(15), int64(1)\n",
      "memory usage: 219.0 KB\n"
     ]
    }
   ],
   "source": [
    "df.info()"
   ]
  },
  {
   "cell_type": "markdown",
   "metadata": {
    "cell_style": "split",
    "slideshow": {
     "slide_type": "slide"
    }
   },
   "source": [
    "Now we are trying to model life expectancy linearly based on the other dependent factors:\n",
    "- Life expectancy is our **target** (dependent variable).\n",
    "- The rest are our:\n",
    "    - predictors\n",
    "    - features\n",
    "    - covariates\n",
    "    - independent variables."
   ]
  },
  {
   "cell_type": "markdown",
   "metadata": {
    "cell_style": "split",
    "slideshow": {
     "slide_type": "fragment"
    }
   },
   "source": [
    "Separate these and label them appropriately:\n",
    "- X is now our **feature matrix**\n",
    "- y is a vector of targets our outcomes."
   ]
  },
  {
   "cell_type": "code",
   "execution_count": 41,
   "id": "64754f76",
   "metadata": {
    "slideshow": {
     "slide_type": "fragment"
    }
   },
   "outputs": [
    {
     "data": {
      "text/plain": [
       "0       65.0\n",
       "1       59.9\n",
       "2       59.9\n",
       "3       59.5\n",
       "4       59.2\n",
       "        ... \n",
       "2933    44.3\n",
       "2934    44.5\n",
       "2935    44.8\n",
       "2936    45.3\n",
       "2937    46.0\n",
       "Name: Life expectancy , Length: 1649, dtype: float64"
      ]
     },
     "execution_count": 41,
     "metadata": {},
     "output_type": "execute_result"
    }
   ],
   "source": [
    "X = df.drop(columns = ['Life expectancy '])\n",
    "y = df['Life expectancy ']\n",
    "y"
   ]
  },
  {
   "cell_type": "code",
   "execution_count": 10,
   "id": "1b492f32",
   "metadata": {
    "slideshow": {
     "slide_type": "slide"
    }
   },
   "outputs": [
    {
     "data": {
      "text/html": [
       "<div>\n",
       "<style scoped>\n",
       "    .dataframe tbody tr th:only-of-type {\n",
       "        vertical-align: middle;\n",
       "    }\n",
       "\n",
       "    .dataframe tbody tr th {\n",
       "        vertical-align: top;\n",
       "    }\n",
       "\n",
       "    .dataframe thead th {\n",
       "        text-align: right;\n",
       "    }\n",
       "</style>\n",
       "<table border=\"1\" class=\"dataframe\">\n",
       "  <thead>\n",
       "    <tr style=\"text-align: right;\">\n",
       "      <th></th>\n",
       "      <th>Alcohol</th>\n",
       "      <th>percentage expenditure</th>\n",
       "      <th>Hepatitis B</th>\n",
       "      <th>Measles</th>\n",
       "      <th>BMI</th>\n",
       "      <th>Polio</th>\n",
       "      <th>Total expenditure</th>\n",
       "      <th>Diphtheria</th>\n",
       "      <th>HIV/AIDS</th>\n",
       "      <th>GDP</th>\n",
       "      <th>Population</th>\n",
       "      <th>thinness  1-19 years</th>\n",
       "      <th>thinness 5-9 years</th>\n",
       "      <th>Income composition of resources</th>\n",
       "      <th>Schooling</th>\n",
       "    </tr>\n",
       "  </thead>\n",
       "  <tbody>\n",
       "    <tr>\n",
       "      <th>0</th>\n",
       "      <td>0.01</td>\n",
       "      <td>71.279624</td>\n",
       "      <td>65.0</td>\n",
       "      <td>1154</td>\n",
       "      <td>19.1</td>\n",
       "      <td>6.0</td>\n",
       "      <td>8.16</td>\n",
       "      <td>65.0</td>\n",
       "      <td>0.1</td>\n",
       "      <td>584.259210</td>\n",
       "      <td>33736494.0</td>\n",
       "      <td>17.2</td>\n",
       "      <td>17.3</td>\n",
       "      <td>0.479</td>\n",
       "      <td>10.1</td>\n",
       "    </tr>\n",
       "    <tr>\n",
       "      <th>1</th>\n",
       "      <td>0.01</td>\n",
       "      <td>73.523582</td>\n",
       "      <td>62.0</td>\n",
       "      <td>492</td>\n",
       "      <td>18.6</td>\n",
       "      <td>58.0</td>\n",
       "      <td>8.18</td>\n",
       "      <td>62.0</td>\n",
       "      <td>0.1</td>\n",
       "      <td>612.696514</td>\n",
       "      <td>327582.0</td>\n",
       "      <td>17.5</td>\n",
       "      <td>17.5</td>\n",
       "      <td>0.476</td>\n",
       "      <td>10.0</td>\n",
       "    </tr>\n",
       "    <tr>\n",
       "      <th>2</th>\n",
       "      <td>0.01</td>\n",
       "      <td>73.219243</td>\n",
       "      <td>64.0</td>\n",
       "      <td>430</td>\n",
       "      <td>18.1</td>\n",
       "      <td>62.0</td>\n",
       "      <td>8.13</td>\n",
       "      <td>64.0</td>\n",
       "      <td>0.1</td>\n",
       "      <td>631.744976</td>\n",
       "      <td>31731688.0</td>\n",
       "      <td>17.7</td>\n",
       "      <td>17.7</td>\n",
       "      <td>0.470</td>\n",
       "      <td>9.9</td>\n",
       "    </tr>\n",
       "    <tr>\n",
       "      <th>3</th>\n",
       "      <td>0.01</td>\n",
       "      <td>78.184215</td>\n",
       "      <td>67.0</td>\n",
       "      <td>2787</td>\n",
       "      <td>17.6</td>\n",
       "      <td>67.0</td>\n",
       "      <td>8.52</td>\n",
       "      <td>67.0</td>\n",
       "      <td>0.1</td>\n",
       "      <td>669.959000</td>\n",
       "      <td>3696958.0</td>\n",
       "      <td>17.9</td>\n",
       "      <td>18.0</td>\n",
       "      <td>0.463</td>\n",
       "      <td>9.8</td>\n",
       "    </tr>\n",
       "    <tr>\n",
       "      <th>4</th>\n",
       "      <td>0.01</td>\n",
       "      <td>7.097109</td>\n",
       "      <td>68.0</td>\n",
       "      <td>3013</td>\n",
       "      <td>17.2</td>\n",
       "      <td>68.0</td>\n",
       "      <td>7.87</td>\n",
       "      <td>68.0</td>\n",
       "      <td>0.1</td>\n",
       "      <td>63.537231</td>\n",
       "      <td>2978599.0</td>\n",
       "      <td>18.2</td>\n",
       "      <td>18.2</td>\n",
       "      <td>0.454</td>\n",
       "      <td>9.5</td>\n",
       "    </tr>\n",
       "    <tr>\n",
       "      <th>...</th>\n",
       "      <td>...</td>\n",
       "      <td>...</td>\n",
       "      <td>...</td>\n",
       "      <td>...</td>\n",
       "      <td>...</td>\n",
       "      <td>...</td>\n",
       "      <td>...</td>\n",
       "      <td>...</td>\n",
       "      <td>...</td>\n",
       "      <td>...</td>\n",
       "      <td>...</td>\n",
       "      <td>...</td>\n",
       "      <td>...</td>\n",
       "      <td>...</td>\n",
       "      <td>...</td>\n",
       "    </tr>\n",
       "    <tr>\n",
       "      <th>2933</th>\n",
       "      <td>4.36</td>\n",
       "      <td>0.000000</td>\n",
       "      <td>68.0</td>\n",
       "      <td>31</td>\n",
       "      <td>27.1</td>\n",
       "      <td>67.0</td>\n",
       "      <td>7.13</td>\n",
       "      <td>65.0</td>\n",
       "      <td>33.6</td>\n",
       "      <td>454.366654</td>\n",
       "      <td>12777511.0</td>\n",
       "      <td>9.4</td>\n",
       "      <td>9.4</td>\n",
       "      <td>0.407</td>\n",
       "      <td>9.2</td>\n",
       "    </tr>\n",
       "    <tr>\n",
       "      <th>2934</th>\n",
       "      <td>4.06</td>\n",
       "      <td>0.000000</td>\n",
       "      <td>7.0</td>\n",
       "      <td>998</td>\n",
       "      <td>26.7</td>\n",
       "      <td>7.0</td>\n",
       "      <td>6.52</td>\n",
       "      <td>68.0</td>\n",
       "      <td>36.7</td>\n",
       "      <td>453.351155</td>\n",
       "      <td>12633897.0</td>\n",
       "      <td>9.8</td>\n",
       "      <td>9.9</td>\n",
       "      <td>0.418</td>\n",
       "      <td>9.5</td>\n",
       "    </tr>\n",
       "    <tr>\n",
       "      <th>2935</th>\n",
       "      <td>4.43</td>\n",
       "      <td>0.000000</td>\n",
       "      <td>73.0</td>\n",
       "      <td>304</td>\n",
       "      <td>26.3</td>\n",
       "      <td>73.0</td>\n",
       "      <td>6.53</td>\n",
       "      <td>71.0</td>\n",
       "      <td>39.8</td>\n",
       "      <td>57.348340</td>\n",
       "      <td>125525.0</td>\n",
       "      <td>1.2</td>\n",
       "      <td>1.3</td>\n",
       "      <td>0.427</td>\n",
       "      <td>10.0</td>\n",
       "    </tr>\n",
       "    <tr>\n",
       "      <th>2936</th>\n",
       "      <td>1.72</td>\n",
       "      <td>0.000000</td>\n",
       "      <td>76.0</td>\n",
       "      <td>529</td>\n",
       "      <td>25.9</td>\n",
       "      <td>76.0</td>\n",
       "      <td>6.16</td>\n",
       "      <td>75.0</td>\n",
       "      <td>42.1</td>\n",
       "      <td>548.587312</td>\n",
       "      <td>12366165.0</td>\n",
       "      <td>1.6</td>\n",
       "      <td>1.7</td>\n",
       "      <td>0.427</td>\n",
       "      <td>9.8</td>\n",
       "    </tr>\n",
       "    <tr>\n",
       "      <th>2937</th>\n",
       "      <td>1.68</td>\n",
       "      <td>0.000000</td>\n",
       "      <td>79.0</td>\n",
       "      <td>1483</td>\n",
       "      <td>25.5</td>\n",
       "      <td>78.0</td>\n",
       "      <td>7.10</td>\n",
       "      <td>78.0</td>\n",
       "      <td>43.5</td>\n",
       "      <td>547.358879</td>\n",
       "      <td>12222251.0</td>\n",
       "      <td>11.0</td>\n",
       "      <td>11.2</td>\n",
       "      <td>0.434</td>\n",
       "      <td>9.8</td>\n",
       "    </tr>\n",
       "  </tbody>\n",
       "</table>\n",
       "<p>1649 rows × 15 columns</p>\n",
       "</div>"
      ],
      "text/plain": [
       "      Alcohol  percentage expenditure  Hepatitis B  Measles    BMI   Polio  \\\n",
       "0        0.01               71.279624         65.0      1154   19.1    6.0   \n",
       "1        0.01               73.523582         62.0       492   18.6   58.0   \n",
       "2        0.01               73.219243         64.0       430   18.1   62.0   \n",
       "3        0.01               78.184215         67.0      2787   17.6   67.0   \n",
       "4        0.01                7.097109         68.0      3013   17.2   68.0   \n",
       "...       ...                     ...          ...       ...    ...    ...   \n",
       "2933     4.36                0.000000         68.0        31   27.1   67.0   \n",
       "2934     4.06                0.000000          7.0       998   26.7    7.0   \n",
       "2935     4.43                0.000000         73.0       304   26.3   73.0   \n",
       "2936     1.72                0.000000         76.0       529   25.9   76.0   \n",
       "2937     1.68                0.000000         79.0      1483   25.5   78.0   \n",
       "\n",
       "      Total expenditure  Diphtheria    HIV/AIDS         GDP  Population  \\\n",
       "0                  8.16         65.0        0.1  584.259210  33736494.0   \n",
       "1                  8.18         62.0        0.1  612.696514    327582.0   \n",
       "2                  8.13         64.0        0.1  631.744976  31731688.0   \n",
       "3                  8.52         67.0        0.1  669.959000   3696958.0   \n",
       "4                  7.87         68.0        0.1   63.537231   2978599.0   \n",
       "...                 ...          ...        ...         ...         ...   \n",
       "2933               7.13         65.0       33.6  454.366654  12777511.0   \n",
       "2934               6.52         68.0       36.7  453.351155  12633897.0   \n",
       "2935               6.53         71.0       39.8   57.348340    125525.0   \n",
       "2936               6.16         75.0       42.1  548.587312  12366165.0   \n",
       "2937               7.10         78.0       43.5  547.358879  12222251.0   \n",
       "\n",
       "       thinness  1-19 years   thinness 5-9 years  \\\n",
       "0                      17.2                 17.3   \n",
       "1                      17.5                 17.5   \n",
       "2                      17.7                 17.7   \n",
       "3                      17.9                 18.0   \n",
       "4                      18.2                 18.2   \n",
       "...                     ...                  ...   \n",
       "2933                    9.4                  9.4   \n",
       "2934                    9.8                  9.9   \n",
       "2935                    1.2                  1.3   \n",
       "2936                    1.6                  1.7   \n",
       "2937                   11.0                 11.2   \n",
       "\n",
       "      Income composition of resources  Schooling  \n",
       "0                               0.479       10.1  \n",
       "1                               0.476       10.0  \n",
       "2                               0.470        9.9  \n",
       "3                               0.463        9.8  \n",
       "4                               0.454        9.5  \n",
       "...                               ...        ...  \n",
       "2933                            0.407        9.2  \n",
       "2934                            0.418        9.5  \n",
       "2935                            0.427       10.0  \n",
       "2936                            0.427        9.8  \n",
       "2937                            0.434        9.8  \n",
       "\n",
       "[1649 rows x 15 columns]"
      ]
     },
     "execution_count": 10,
     "metadata": {},
     "output_type": "execute_result"
    }
   ],
   "source": [
    "X"
   ]
  },
  {
   "cell_type": "markdown",
   "metadata": {
    "slideshow": {
     "slide_type": "slide"
    }
   },
   "source": [
    "Checking for collinearity through the correlation matrix"
   ]
  },
  {
   "cell_type": "code",
   "execution_count": 15,
   "metadata": {
    "scrolled": true,
    "slideshow": {
     "slide_type": "fragment"
    }
   },
   "outputs": [
    {
     "data": {
      "text/html": [
       "<div>\n",
       "<style scoped>\n",
       "    .dataframe tbody tr th:only-of-type {\n",
       "        vertical-align: middle;\n",
       "    }\n",
       "\n",
       "    .dataframe tbody tr th {\n",
       "        vertical-align: top;\n",
       "    }\n",
       "\n",
       "    .dataframe thead th {\n",
       "        text-align: right;\n",
       "    }\n",
       "</style>\n",
       "<table border=\"1\" class=\"dataframe\">\n",
       "  <thead>\n",
       "    <tr style=\"text-align: right;\">\n",
       "      <th></th>\n",
       "      <th>Alcohol</th>\n",
       "      <th>percentage expenditure</th>\n",
       "      <th>Hepatitis B</th>\n",
       "      <th>Measles</th>\n",
       "      <th>BMI</th>\n",
       "      <th>Polio</th>\n",
       "      <th>Total expenditure</th>\n",
       "      <th>Diphtheria</th>\n",
       "      <th>HIV/AIDS</th>\n",
       "      <th>GDP</th>\n",
       "      <th>Population</th>\n",
       "      <th>thinness  1-19 years</th>\n",
       "      <th>thinness 5-9 years</th>\n",
       "      <th>Income composition of resources</th>\n",
       "      <th>Schooling</th>\n",
       "    </tr>\n",
       "  </thead>\n",
       "  <tbody>\n",
       "    <tr>\n",
       "      <th>Alcohol</th>\n",
       "      <td>1.000000</td>\n",
       "      <td>0.417047</td>\n",
       "      <td>0.109889</td>\n",
       "      <td>-0.050110</td>\n",
       "      <td>0.353396</td>\n",
       "      <td>0.240315</td>\n",
       "      <td>0.214885</td>\n",
       "      <td>0.242951</td>\n",
       "      <td>-0.027113</td>\n",
       "      <td>0.443433</td>\n",
       "      <td>-0.028880</td>\n",
       "      <td>-0.403755</td>\n",
       "      <td>-0.386208</td>\n",
       "      <td>0.561074</td>\n",
       "      <td>0.616975</td>\n",
       "    </tr>\n",
       "    <tr>\n",
       "      <th>percentage expenditure</th>\n",
       "      <td>0.417047</td>\n",
       "      <td>1.000000</td>\n",
       "      <td>0.016760</td>\n",
       "      <td>-0.063071</td>\n",
       "      <td>0.242738</td>\n",
       "      <td>0.128626</td>\n",
       "      <td>0.183872</td>\n",
       "      <td>0.134813</td>\n",
       "      <td>-0.095085</td>\n",
       "      <td>0.959299</td>\n",
       "      <td>-0.016792</td>\n",
       "      <td>-0.255035</td>\n",
       "      <td>-0.255635</td>\n",
       "      <td>0.402170</td>\n",
       "      <td>0.422088</td>\n",
       "    </tr>\n",
       "    <tr>\n",
       "      <th>Hepatitis B</th>\n",
       "      <td>0.109889</td>\n",
       "      <td>0.016760</td>\n",
       "      <td>1.000000</td>\n",
       "      <td>-0.124800</td>\n",
       "      <td>0.143302</td>\n",
       "      <td>0.463331</td>\n",
       "      <td>0.113327</td>\n",
       "      <td>0.588990</td>\n",
       "      <td>-0.094802</td>\n",
       "      <td>0.041850</td>\n",
       "      <td>-0.129723</td>\n",
       "      <td>-0.129406</td>\n",
       "      <td>-0.133251</td>\n",
       "      <td>0.184921</td>\n",
       "      <td>0.215182</td>\n",
       "    </tr>\n",
       "    <tr>\n",
       "      <th>Measles</th>\n",
       "      <td>-0.050110</td>\n",
       "      <td>-0.063071</td>\n",
       "      <td>-0.124800</td>\n",
       "      <td>1.000000</td>\n",
       "      <td>-0.153245</td>\n",
       "      <td>-0.057850</td>\n",
       "      <td>-0.113583</td>\n",
       "      <td>-0.058606</td>\n",
       "      <td>-0.003522</td>\n",
       "      <td>-0.064768</td>\n",
       "      <td>0.321946</td>\n",
       "      <td>0.180642</td>\n",
       "      <td>0.174946</td>\n",
       "      <td>-0.058277</td>\n",
       "      <td>-0.115660</td>\n",
       "    </tr>\n",
       "    <tr>\n",
       "      <th>BMI</th>\n",
       "      <td>0.353396</td>\n",
       "      <td>0.242738</td>\n",
       "      <td>0.143302</td>\n",
       "      <td>-0.153245</td>\n",
       "      <td>1.000000</td>\n",
       "      <td>0.186268</td>\n",
       "      <td>0.189469</td>\n",
       "      <td>0.176295</td>\n",
       "      <td>-0.210897</td>\n",
       "      <td>0.266114</td>\n",
       "      <td>-0.081416</td>\n",
       "      <td>-0.547018</td>\n",
       "      <td>-0.554094</td>\n",
       "      <td>0.510505</td>\n",
       "      <td>0.554844</td>\n",
       "    </tr>\n",
       "    <tr>\n",
       "      <th>Polio</th>\n",
       "      <td>0.240315</td>\n",
       "      <td>0.128626</td>\n",
       "      <td>0.463331</td>\n",
       "      <td>-0.057850</td>\n",
       "      <td>0.186268</td>\n",
       "      <td>1.000000</td>\n",
       "      <td>0.119768</td>\n",
       "      <td>0.609245</td>\n",
       "      <td>-0.107885</td>\n",
       "      <td>0.156809</td>\n",
       "      <td>-0.045387</td>\n",
       "      <td>-0.164070</td>\n",
       "      <td>-0.174489</td>\n",
       "      <td>0.314682</td>\n",
       "      <td>0.350147</td>\n",
       "    </tr>\n",
       "    <tr>\n",
       "      <th>Total expenditure</th>\n",
       "      <td>0.214885</td>\n",
       "      <td>0.183872</td>\n",
       "      <td>0.113327</td>\n",
       "      <td>-0.113583</td>\n",
       "      <td>0.189469</td>\n",
       "      <td>0.119768</td>\n",
       "      <td>1.000000</td>\n",
       "      <td>0.129915</td>\n",
       "      <td>0.043101</td>\n",
       "      <td>0.180373</td>\n",
       "      <td>-0.079962</td>\n",
       "      <td>-0.209872</td>\n",
       "      <td>-0.217865</td>\n",
       "      <td>0.183653</td>\n",
       "      <td>0.243783</td>\n",
       "    </tr>\n",
       "    <tr>\n",
       "      <th>Diphtheria</th>\n",
       "      <td>0.242951</td>\n",
       "      <td>0.134813</td>\n",
       "      <td>0.588990</td>\n",
       "      <td>-0.058606</td>\n",
       "      <td>0.176295</td>\n",
       "      <td>0.609245</td>\n",
       "      <td>0.129915</td>\n",
       "      <td>1.000000</td>\n",
       "      <td>-0.117601</td>\n",
       "      <td>0.158438</td>\n",
       "      <td>-0.039898</td>\n",
       "      <td>-0.187242</td>\n",
       "      <td>-0.180952</td>\n",
       "      <td>0.343262</td>\n",
       "      <td>0.350398</td>\n",
       "    </tr>\n",
       "    <tr>\n",
       "      <th>HIV/AIDS</th>\n",
       "      <td>-0.027113</td>\n",
       "      <td>-0.095085</td>\n",
       "      <td>-0.094802</td>\n",
       "      <td>-0.003522</td>\n",
       "      <td>-0.210897</td>\n",
       "      <td>-0.107885</td>\n",
       "      <td>0.043101</td>\n",
       "      <td>-0.117601</td>\n",
       "      <td>1.000000</td>\n",
       "      <td>-0.108081</td>\n",
       "      <td>-0.027801</td>\n",
       "      <td>0.172592</td>\n",
       "      <td>0.183147</td>\n",
       "      <td>-0.248590</td>\n",
       "      <td>-0.211840</td>\n",
       "    </tr>\n",
       "    <tr>\n",
       "      <th>GDP</th>\n",
       "      <td>0.443433</td>\n",
       "      <td>0.959299</td>\n",
       "      <td>0.041850</td>\n",
       "      <td>-0.064768</td>\n",
       "      <td>0.266114</td>\n",
       "      <td>0.156809</td>\n",
       "      <td>0.180373</td>\n",
       "      <td>0.158438</td>\n",
       "      <td>-0.108081</td>\n",
       "      <td>1.000000</td>\n",
       "      <td>-0.020369</td>\n",
       "      <td>-0.277498</td>\n",
       "      <td>-0.277959</td>\n",
       "      <td>0.446856</td>\n",
       "      <td>0.467947</td>\n",
       "    </tr>\n",
       "    <tr>\n",
       "      <th>Population</th>\n",
       "      <td>-0.028880</td>\n",
       "      <td>-0.016792</td>\n",
       "      <td>-0.129723</td>\n",
       "      <td>0.321946</td>\n",
       "      <td>-0.081416</td>\n",
       "      <td>-0.045387</td>\n",
       "      <td>-0.079962</td>\n",
       "      <td>-0.039898</td>\n",
       "      <td>-0.027801</td>\n",
       "      <td>-0.020369</td>\n",
       "      <td>1.000000</td>\n",
       "      <td>0.282529</td>\n",
       "      <td>0.277913</td>\n",
       "      <td>-0.008132</td>\n",
       "      <td>-0.040312</td>\n",
       "    </tr>\n",
       "    <tr>\n",
       "      <th>thinness  1-19 years</th>\n",
       "      <td>-0.403755</td>\n",
       "      <td>-0.255035</td>\n",
       "      <td>-0.129406</td>\n",
       "      <td>0.180642</td>\n",
       "      <td>-0.547018</td>\n",
       "      <td>-0.164070</td>\n",
       "      <td>-0.209872</td>\n",
       "      <td>-0.187242</td>\n",
       "      <td>0.172592</td>\n",
       "      <td>-0.277498</td>\n",
       "      <td>0.282529</td>\n",
       "      <td>1.000000</td>\n",
       "      <td>0.927913</td>\n",
       "      <td>-0.453679</td>\n",
       "      <td>-0.491199</td>\n",
       "    </tr>\n",
       "    <tr>\n",
       "      <th>thinness 5-9 years</th>\n",
       "      <td>-0.386208</td>\n",
       "      <td>-0.255635</td>\n",
       "      <td>-0.133251</td>\n",
       "      <td>0.174946</td>\n",
       "      <td>-0.554094</td>\n",
       "      <td>-0.174489</td>\n",
       "      <td>-0.217865</td>\n",
       "      <td>-0.180952</td>\n",
       "      <td>0.183147</td>\n",
       "      <td>-0.277959</td>\n",
       "      <td>0.277913</td>\n",
       "      <td>0.927913</td>\n",
       "      <td>1.000000</td>\n",
       "      <td>-0.438484</td>\n",
       "      <td>-0.472482</td>\n",
       "    </tr>\n",
       "    <tr>\n",
       "      <th>Income composition of resources</th>\n",
       "      <td>0.561074</td>\n",
       "      <td>0.402170</td>\n",
       "      <td>0.184921</td>\n",
       "      <td>-0.058277</td>\n",
       "      <td>0.510505</td>\n",
       "      <td>0.314682</td>\n",
       "      <td>0.183653</td>\n",
       "      <td>0.343262</td>\n",
       "      <td>-0.248590</td>\n",
       "      <td>0.446856</td>\n",
       "      <td>-0.008132</td>\n",
       "      <td>-0.453679</td>\n",
       "      <td>-0.438484</td>\n",
       "      <td>1.000000</td>\n",
       "      <td>0.784741</td>\n",
       "    </tr>\n",
       "    <tr>\n",
       "      <th>Schooling</th>\n",
       "      <td>0.616975</td>\n",
       "      <td>0.422088</td>\n",
       "      <td>0.215182</td>\n",
       "      <td>-0.115660</td>\n",
       "      <td>0.554844</td>\n",
       "      <td>0.350147</td>\n",
       "      <td>0.243783</td>\n",
       "      <td>0.350398</td>\n",
       "      <td>-0.211840</td>\n",
       "      <td>0.467947</td>\n",
       "      <td>-0.040312</td>\n",
       "      <td>-0.491199</td>\n",
       "      <td>-0.472482</td>\n",
       "      <td>0.784741</td>\n",
       "      <td>1.000000</td>\n",
       "    </tr>\n",
       "  </tbody>\n",
       "</table>\n",
       "</div>"
      ],
      "text/plain": [
       "                                  Alcohol  percentage expenditure  \\\n",
       "Alcohol                          1.000000                0.417047   \n",
       "percentage expenditure           0.417047                1.000000   \n",
       "Hepatitis B                      0.109889                0.016760   \n",
       "Measles                         -0.050110               -0.063071   \n",
       " BMI                             0.353396                0.242738   \n",
       "Polio                            0.240315                0.128626   \n",
       "Total expenditure                0.214885                0.183872   \n",
       "Diphtheria                       0.242951                0.134813   \n",
       " HIV/AIDS                       -0.027113               -0.095085   \n",
       "GDP                              0.443433                0.959299   \n",
       "Population                      -0.028880               -0.016792   \n",
       " thinness  1-19 years           -0.403755               -0.255035   \n",
       " thinness 5-9 years             -0.386208               -0.255635   \n",
       "Income composition of resources  0.561074                0.402170   \n",
       "Schooling                        0.616975                0.422088   \n",
       "\n",
       "                                 Hepatitis B  Measles       BMI      Polio  \\\n",
       "Alcohol                             0.109889 -0.050110  0.353396  0.240315   \n",
       "percentage expenditure              0.016760 -0.063071  0.242738  0.128626   \n",
       "Hepatitis B                         1.000000 -0.124800  0.143302  0.463331   \n",
       "Measles                            -0.124800  1.000000 -0.153245 -0.057850   \n",
       " BMI                                0.143302 -0.153245  1.000000  0.186268   \n",
       "Polio                               0.463331 -0.057850  0.186268  1.000000   \n",
       "Total expenditure                   0.113327 -0.113583  0.189469  0.119768   \n",
       "Diphtheria                          0.588990 -0.058606  0.176295  0.609245   \n",
       " HIV/AIDS                          -0.094802 -0.003522 -0.210897 -0.107885   \n",
       "GDP                                 0.041850 -0.064768  0.266114  0.156809   \n",
       "Population                         -0.129723  0.321946 -0.081416 -0.045387   \n",
       " thinness  1-19 years              -0.129406  0.180642 -0.547018 -0.164070   \n",
       " thinness 5-9 years                -0.133251  0.174946 -0.554094 -0.174489   \n",
       "Income composition of resources     0.184921 -0.058277  0.510505  0.314682   \n",
       "Schooling                           0.215182 -0.115660  0.554844  0.350147   \n",
       "\n",
       "                                 Total expenditure  Diphtheria    HIV/AIDS  \\\n",
       "Alcohol                                   0.214885     0.242951  -0.027113   \n",
       "percentage expenditure                    0.183872     0.134813  -0.095085   \n",
       "Hepatitis B                               0.113327     0.588990  -0.094802   \n",
       "Measles                                  -0.113583    -0.058606  -0.003522   \n",
       " BMI                                      0.189469     0.176295  -0.210897   \n",
       "Polio                                     0.119768     0.609245  -0.107885   \n",
       "Total expenditure                         1.000000     0.129915   0.043101   \n",
       "Diphtheria                                0.129915     1.000000  -0.117601   \n",
       " HIV/AIDS                                 0.043101    -0.117601   1.000000   \n",
       "GDP                                       0.180373     0.158438  -0.108081   \n",
       "Population                               -0.079962    -0.039898  -0.027801   \n",
       " thinness  1-19 years                    -0.209872    -0.187242   0.172592   \n",
       " thinness 5-9 years                      -0.217865    -0.180952   0.183147   \n",
       "Income composition of resources           0.183653     0.343262  -0.248590   \n",
       "Schooling                                 0.243783     0.350398  -0.211840   \n",
       "\n",
       "                                      GDP  Population   thinness  1-19 years  \\\n",
       "Alcohol                          0.443433   -0.028880              -0.403755   \n",
       "percentage expenditure           0.959299   -0.016792              -0.255035   \n",
       "Hepatitis B                      0.041850   -0.129723              -0.129406   \n",
       "Measles                         -0.064768    0.321946               0.180642   \n",
       " BMI                             0.266114   -0.081416              -0.547018   \n",
       "Polio                            0.156809   -0.045387              -0.164070   \n",
       "Total expenditure                0.180373   -0.079962              -0.209872   \n",
       "Diphtheria                       0.158438   -0.039898              -0.187242   \n",
       " HIV/AIDS                       -0.108081   -0.027801               0.172592   \n",
       "GDP                              1.000000   -0.020369              -0.277498   \n",
       "Population                      -0.020369    1.000000               0.282529   \n",
       " thinness  1-19 years           -0.277498    0.282529               1.000000   \n",
       " thinness 5-9 years             -0.277959    0.277913               0.927913   \n",
       "Income composition of resources  0.446856   -0.008132              -0.453679   \n",
       "Schooling                        0.467947   -0.040312              -0.491199   \n",
       "\n",
       "                                  thinness 5-9 years  \\\n",
       "Alcohol                                    -0.386208   \n",
       "percentage expenditure                     -0.255635   \n",
       "Hepatitis B                                -0.133251   \n",
       "Measles                                     0.174946   \n",
       " BMI                                       -0.554094   \n",
       "Polio                                      -0.174489   \n",
       "Total expenditure                          -0.217865   \n",
       "Diphtheria                                 -0.180952   \n",
       " HIV/AIDS                                   0.183147   \n",
       "GDP                                        -0.277959   \n",
       "Population                                  0.277913   \n",
       " thinness  1-19 years                       0.927913   \n",
       " thinness 5-9 years                         1.000000   \n",
       "Income composition of resources            -0.438484   \n",
       "Schooling                                  -0.472482   \n",
       "\n",
       "                                 Income composition of resources  Schooling  \n",
       "Alcohol                                                 0.561074   0.616975  \n",
       "percentage expenditure                                  0.402170   0.422088  \n",
       "Hepatitis B                                             0.184921   0.215182  \n",
       "Measles                                                -0.058277  -0.115660  \n",
       " BMI                                                    0.510505   0.554844  \n",
       "Polio                                                   0.314682   0.350147  \n",
       "Total expenditure                                       0.183653   0.243783  \n",
       "Diphtheria                                              0.343262   0.350398  \n",
       " HIV/AIDS                                              -0.248590  -0.211840  \n",
       "GDP                                                     0.446856   0.467947  \n",
       "Population                                             -0.008132  -0.040312  \n",
       " thinness  1-19 years                                  -0.453679  -0.491199  \n",
       " thinness 5-9 years                                    -0.438484  -0.472482  \n",
       "Income composition of resources                         1.000000   0.784741  \n",
       "Schooling                                               0.784741   1.000000  "
      ]
     },
     "execution_count": 15,
     "metadata": {},
     "output_type": "execute_result"
    }
   ],
   "source": [
    "X.corr()"
   ]
  },
  {
   "cell_type": "markdown",
   "metadata": {
    "slideshow": {
     "slide_type": "slide"
    }
   },
   "source": [
    "Hard to parse. Seaborn can help:"
   ]
  },
  {
   "cell_type": "code",
   "execution_count": 16,
   "metadata": {
    "cell_style": "center",
    "slideshow": {
     "slide_type": "fragment"
    }
   },
   "outputs": [
    {
     "data": {
      "image/png": "[encoded data removed]",
      "text/plain": [
       "<Figure size 1008x432 with 2 Axes>"
      ]
     },
     "metadata": {
      "needs_background": "light"
     },
     "output_type": "display_data"
    }
   ],
   "source": [
    "plt.figure(figsize=(14, 6))\n",
    "sns.heatmap(X.corr(), annot=True)\n",
    "\n",
    "plt.title('Correlation Matrix for Features')\n",
    "plt.savefig(\"corrmat.jpg\", dpi = 300)\n",
    "plt.show()"
   ]
  },
  {
   "cell_type": "markdown",
   "metadata": {
    "slideshow": {
     "slide_type": "slide"
    }
   },
   "source": [
    "Highly correlated variables:\n",
    "\n",
    "- GDP vs percentage expenditure\n",
    "- under five deaths vs population,\n",
    "- income composition vs resources and schooling, \n",
    "- thinness 1-19 years vs thinness 5-9 years\n",
    "- diptheria vs polio \n"
   ]
  },
  {
   "cell_type": "markdown",
   "metadata": {
    "slideshow": {
     "slide_type": "subslide"
    }
   },
   "source": [
    "Getting rid of:\n",
    "- percentage expenditure\n",
    "- income composition of resources\n",
    "- thinness 5-9 years\n",
    "- diptheria. \n",
    "\n",
    "This can potentially help with issues of overfitting associated with multicollinearity that we addressed before."
   ]
  },
  {
   "cell_type": "code",
   "execution_count": 42,
   "id": "66775e6b",
   "metadata": {
    "slideshow": {
     "slide_type": "subslide"
    }
   },
   "outputs": [
    {
     "data": {
      "text/html": [
       "<div>\n",
       "<style scoped>\n",
       "    .dataframe tbody tr th:only-of-type {\n",
       "        vertical-align: middle;\n",
       "    }\n",
       "\n",
       "    .dataframe tbody tr th {\n",
       "        vertical-align: top;\n",
       "    }\n",
       "\n",
       "    .dataframe thead th {\n",
       "        text-align: right;\n",
       "    }\n",
       "</style>\n",
       "<table border=\"1\" class=\"dataframe\">\n",
       "  <thead>\n",
       "    <tr style=\"text-align: right;\">\n",
       "      <th></th>\n",
       "      <th>Alcohol</th>\n",
       "      <th>Hepatitis B</th>\n",
       "      <th>Measles</th>\n",
       "      <th>BMI</th>\n",
       "      <th>Polio</th>\n",
       "      <th>Total expenditure</th>\n",
       "      <th>HIV/AIDS</th>\n",
       "      <th>GDP</th>\n",
       "      <th>Population</th>\n",
       "      <th>thinness  1-19 years</th>\n",
       "      <th>Schooling</th>\n",
       "    </tr>\n",
       "  </thead>\n",
       "  <tbody>\n",
       "    <tr>\n",
       "      <th>0</th>\n",
       "      <td>0.01</td>\n",
       "      <td>65.0</td>\n",
       "      <td>1154</td>\n",
       "      <td>19.1</td>\n",
       "      <td>6.0</td>\n",
       "      <td>8.16</td>\n",
       "      <td>0.1</td>\n",
       "      <td>584.259210</td>\n",
       "      <td>33736494.0</td>\n",
       "      <td>17.2</td>\n",
       "      <td>10.1</td>\n",
       "    </tr>\n",
       "    <tr>\n",
       "      <th>1</th>\n",
       "      <td>0.01</td>\n",
       "      <td>62.0</td>\n",
       "      <td>492</td>\n",
       "      <td>18.6</td>\n",
       "      <td>58.0</td>\n",
       "      <td>8.18</td>\n",
       "      <td>0.1</td>\n",
       "      <td>612.696514</td>\n",
       "      <td>327582.0</td>\n",
       "      <td>17.5</td>\n",
       "      <td>10.0</td>\n",
       "    </tr>\n",
       "    <tr>\n",
       "      <th>2</th>\n",
       "      <td>0.01</td>\n",
       "      <td>64.0</td>\n",
       "      <td>430</td>\n",
       "      <td>18.1</td>\n",
       "      <td>62.0</td>\n",
       "      <td>8.13</td>\n",
       "      <td>0.1</td>\n",
       "      <td>631.744976</td>\n",
       "      <td>31731688.0</td>\n",
       "      <td>17.7</td>\n",
       "      <td>9.9</td>\n",
       "    </tr>\n",
       "    <tr>\n",
       "      <th>3</th>\n",
       "      <td>0.01</td>\n",
       "      <td>67.0</td>\n",
       "      <td>2787</td>\n",
       "      <td>17.6</td>\n",
       "      <td>67.0</td>\n",
       "      <td>8.52</td>\n",
       "      <td>0.1</td>\n",
       "      <td>669.959000</td>\n",
       "      <td>3696958.0</td>\n",
       "      <td>17.9</td>\n",
       "      <td>9.8</td>\n",
       "    </tr>\n",
       "    <tr>\n",
       "      <th>4</th>\n",
       "      <td>0.01</td>\n",
       "      <td>68.0</td>\n",
       "      <td>3013</td>\n",
       "      <td>17.2</td>\n",
       "      <td>68.0</td>\n",
       "      <td>7.87</td>\n",
       "      <td>0.1</td>\n",
       "      <td>63.537231</td>\n",
       "      <td>2978599.0</td>\n",
       "      <td>18.2</td>\n",
       "      <td>9.5</td>\n",
       "    </tr>\n",
       "  </tbody>\n",
       "</table>\n",
       "</div>"
      ],
      "text/plain": [
       "   Alcohol  Hepatitis B  Measles    BMI   Polio  Total expenditure   HIV/AIDS  \\\n",
       "0     0.01         65.0      1154   19.1    6.0               8.16        0.1   \n",
       "1     0.01         62.0       492   18.6   58.0               8.18        0.1   \n",
       "2     0.01         64.0       430   18.1   62.0               8.13        0.1   \n",
       "3     0.01         67.0      2787   17.6   67.0               8.52        0.1   \n",
       "4     0.01         68.0      3013   17.2   68.0               7.87        0.1   \n",
       "\n",
       "          GDP  Population   thinness  1-19 years  Schooling  \n",
       "0  584.259210  33736494.0                   17.2       10.1  \n",
       "1  612.696514    327582.0                   17.5       10.0  \n",
       "2  631.744976  31731688.0                   17.7        9.9  \n",
       "3  669.959000   3696958.0                   17.9        9.8  \n",
       "4   63.537231   2978599.0                   18.2        9.5  "
      ]
     },
     "execution_count": 42,
     "metadata": {},
     "output_type": "execute_result"
    }
   ],
   "source": [
    "X = X.drop(columns = ['percentage expenditure', 'Income composition of resources', ' thinness 5-9 years', 'Diphtheria ' ])\n",
    "X.head()"
   ]
  },
  {
   "cell_type": "markdown",
   "metadata": {
    "slideshow": {
     "slide_type": "slide"
    }
   },
   "source": [
    "Let's look at the correlation matrix now:"
   ]
  },
  {
   "cell_type": "code",
   "execution_count": 18,
   "metadata": {
    "slideshow": {
     "slide_type": "fragment"
    }
   },
   "outputs": [
    {
     "data": {
      "image/png": "[encoded data removed]",
      "text/plain": [
       "<Figure size 864x432 with 2 Axes>"
      ]
     },
     "metadata": {
      "needs_background": "light"
     },
     "output_type": "display_data"
    }
   ],
   "source": [
    "plt.figure(figsize=(12, 6))\n",
    "sns.heatmap(X.corr(), annot=True)\n",
    "\n",
    "plt.title('Correlation Matrix for Features')\n",
    "plt.savefig(\"corrmat_2.jpg\", dpi = 300)\n",
    "plt.show()"
   ]
  },
  {
   "cell_type": "markdown",
   "metadata": {
    "cell_style": "center",
    "slideshow": {
     "slide_type": "slide"
    }
   },
   "source": [
    "Since, the correlation heatmap is symmetric:\n",
    "- Often useful to make a triangular mask and filter."
   ]
  },
  {
   "cell_type": "code",
   "execution_count": 20,
   "metadata": {
    "slideshow": {
     "slide_type": "subslide"
    }
   },
   "outputs": [
    {
     "data": {
      "image/png": "[encoded data removed]",
      "text/plain": [
       "<Figure size 864x432 with 2 Axes>"
      ]
     },
     "metadata": {
      "needs_background": "light"
     },
     "output_type": "display_data"
    }
   ],
   "source": [
    "plt.figure(figsize=(12, 6))\n",
    "# define the mask to set the values in the upper triangle to True\n",
    "mask = np.triu(np.ones_like(X.corr(), dtype=bool))\n",
    "heatmap = sns.heatmap(X.corr(), mask=mask, vmin=-1, vmax=1, annot=True)\n",
    "heatmap.set_title('Triangle Correlation Heatmap', fontdict={'fontsize':18}, pad=16);"
   ]
  },
  {
   "cell_type": "code",
   "execution_count": 43,
   "id": "0e810746",
   "metadata": {
    "slideshow": {
     "slide_type": "slide"
    }
   },
   "outputs": [
    {
     "name": "stdout",
     "output_type": "stream",
     "text": [
      "<class 'pandas.core.frame.DataFrame'>\n",
      "Int64Index: 1649 entries, 0 to 2937\n",
      "Data columns (total 11 columns):\n",
      " #   Column                 Non-Null Count  Dtype  \n",
      "---  ------                 --------------  -----  \n",
      " 0   Alcohol                1649 non-null   float64\n",
      " 1   Hepatitis B            1649 non-null   float64\n",
      " 2   Measles                1649 non-null   int64  \n",
      " 3    BMI                   1649 non-null   float64\n",
      " 4   Polio                  1649 non-null   float64\n",
      " 5   Total expenditure      1649 non-null   float64\n",
      " 6    HIV/AIDS              1649 non-null   float64\n",
      " 7   GDP                    1649 non-null   float64\n",
      " 8   Population             1649 non-null   float64\n",
      " 9    thinness  1-19 years  1649 non-null   float64\n",
      " 10  Schooling              1649 non-null   float64\n",
      "dtypes: float64(10), int64(1)\n",
      "memory usage: 154.6 KB\n"
     ]
    }
   ],
   "source": [
    "X.info()"
   ]
  },
  {
   "cell_type": "markdown",
   "metadata": {
    "slideshow": {
     "slide_type": "slide"
    }
   },
   "source": [
    "Let's model this using statsmodels:\n",
    "\n",
    "- Code is the exact same as simple linear regression"
   ]
  },
  {
   "cell_type": "code",
   "execution_count": 44,
   "id": "3a8134c9",
   "metadata": {
    "slideshow": {
     "slide_type": "slide"
    }
   },
   "outputs": [
    {
     "data": {
      "text/html": [
       "<div>\n",
       "<style scoped>\n",
       "    .dataframe tbody tr th:only-of-type {\n",
       "        vertical-align: middle;\n",
       "    }\n",
       "\n",
       "    .dataframe tbody tr th {\n",
       "        vertical-align: top;\n",
       "    }\n",
       "\n",
       "    .dataframe thead th {\n",
       "        text-align: right;\n",
       "    }\n",
       "</style>\n",
       "<table border=\"1\" class=\"dataframe\">\n",
       "  <thead>\n",
       "    <tr style=\"text-align: right;\">\n",
       "      <th></th>\n",
       "      <th>const</th>\n",
       "      <th>Alcohol</th>\n",
       "      <th>Hepatitis B</th>\n",
       "      <th>Measles</th>\n",
       "      <th>BMI</th>\n",
       "      <th>Polio</th>\n",
       "      <th>Total expenditure</th>\n",
       "      <th>HIV/AIDS</th>\n",
       "      <th>GDP</th>\n",
       "      <th>Population</th>\n",
       "      <th>thinness  1-19 years</th>\n",
       "      <th>Schooling</th>\n",
       "    </tr>\n",
       "  </thead>\n",
       "  <tbody>\n",
       "    <tr>\n",
       "      <th>0</th>\n",
       "      <td>1.0</td>\n",
       "      <td>0.01</td>\n",
       "      <td>65.0</td>\n",
       "      <td>1154</td>\n",
       "      <td>19.1</td>\n",
       "      <td>6.0</td>\n",
       "      <td>8.16</td>\n",
       "      <td>0.1</td>\n",
       "      <td>584.259210</td>\n",
       "      <td>33736494.0</td>\n",
       "      <td>17.2</td>\n",
       "      <td>10.1</td>\n",
       "    </tr>\n",
       "    <tr>\n",
       "      <th>1</th>\n",
       "      <td>1.0</td>\n",
       "      <td>0.01</td>\n",
       "      <td>62.0</td>\n",
       "      <td>492</td>\n",
       "      <td>18.6</td>\n",
       "      <td>58.0</td>\n",
       "      <td>8.18</td>\n",
       "      <td>0.1</td>\n",
       "      <td>612.696514</td>\n",
       "      <td>327582.0</td>\n",
       "      <td>17.5</td>\n",
       "      <td>10.0</td>\n",
       "    </tr>\n",
       "    <tr>\n",
       "      <th>2</th>\n",
       "      <td>1.0</td>\n",
       "      <td>0.01</td>\n",
       "      <td>64.0</td>\n",
       "      <td>430</td>\n",
       "      <td>18.1</td>\n",
       "      <td>62.0</td>\n",
       "      <td>8.13</td>\n",
       "      <td>0.1</td>\n",
       "      <td>631.744976</td>\n",
       "      <td>31731688.0</td>\n",
       "      <td>17.7</td>\n",
       "      <td>9.9</td>\n",
       "    </tr>\n",
       "    <tr>\n",
       "      <th>3</th>\n",
       "      <td>1.0</td>\n",
       "      <td>0.01</td>\n",
       "      <td>67.0</td>\n",
       "      <td>2787</td>\n",
       "      <td>17.6</td>\n",
       "      <td>67.0</td>\n",
       "      <td>8.52</td>\n",
       "      <td>0.1</td>\n",
       "      <td>669.959000</td>\n",
       "      <td>3696958.0</td>\n",
       "      <td>17.9</td>\n",
       "      <td>9.8</td>\n",
       "    </tr>\n",
       "    <tr>\n",
       "      <th>4</th>\n",
       "      <td>1.0</td>\n",
       "      <td>0.01</td>\n",
       "      <td>68.0</td>\n",
       "      <td>3013</td>\n",
       "      <td>17.2</td>\n",
       "      <td>68.0</td>\n",
       "      <td>7.87</td>\n",
       "      <td>0.1</td>\n",
       "      <td>63.537231</td>\n",
       "      <td>2978599.0</td>\n",
       "      <td>18.2</td>\n",
       "      <td>9.5</td>\n",
       "    </tr>\n",
       "    <tr>\n",
       "      <th>...</th>\n",
       "      <td>...</td>\n",
       "      <td>...</td>\n",
       "      <td>...</td>\n",
       "      <td>...</td>\n",
       "      <td>...</td>\n",
       "      <td>...</td>\n",
       "      <td>...</td>\n",
       "      <td>...</td>\n",
       "      <td>...</td>\n",
       "      <td>...</td>\n",
       "      <td>...</td>\n",
       "      <td>...</td>\n",
       "    </tr>\n",
       "    <tr>\n",
       "      <th>2933</th>\n",
       "      <td>1.0</td>\n",
       "      <td>4.36</td>\n",
       "      <td>68.0</td>\n",
       "      <td>31</td>\n",
       "      <td>27.1</td>\n",
       "      <td>67.0</td>\n",
       "      <td>7.13</td>\n",
       "      <td>33.6</td>\n",
       "      <td>454.366654</td>\n",
       "      <td>12777511.0</td>\n",
       "      <td>9.4</td>\n",
       "      <td>9.2</td>\n",
       "    </tr>\n",
       "    <tr>\n",
       "      <th>2934</th>\n",
       "      <td>1.0</td>\n",
       "      <td>4.06</td>\n",
       "      <td>7.0</td>\n",
       "      <td>998</td>\n",
       "      <td>26.7</td>\n",
       "      <td>7.0</td>\n",
       "      <td>6.52</td>\n",
       "      <td>36.7</td>\n",
       "      <td>453.351155</td>\n",
       "      <td>12633897.0</td>\n",
       "      <td>9.8</td>\n",
       "      <td>9.5</td>\n",
       "    </tr>\n",
       "    <tr>\n",
       "      <th>2935</th>\n",
       "      <td>1.0</td>\n",
       "      <td>4.43</td>\n",
       "      <td>73.0</td>\n",
       "      <td>304</td>\n",
       "      <td>26.3</td>\n",
       "      <td>73.0</td>\n",
       "      <td>6.53</td>\n",
       "      <td>39.8</td>\n",
       "      <td>57.348340</td>\n",
       "      <td>125525.0</td>\n",
       "      <td>1.2</td>\n",
       "      <td>10.0</td>\n",
       "    </tr>\n",
       "    <tr>\n",
       "      <th>2936</th>\n",
       "      <td>1.0</td>\n",
       "      <td>1.72</td>\n",
       "      <td>76.0</td>\n",
       "      <td>529</td>\n",
       "      <td>25.9</td>\n",
       "      <td>76.0</td>\n",
       "      <td>6.16</td>\n",
       "      <td>42.1</td>\n",
       "      <td>548.587312</td>\n",
       "      <td>12366165.0</td>\n",
       "      <td>1.6</td>\n",
       "      <td>9.8</td>\n",
       "    </tr>\n",
       "    <tr>\n",
       "      <th>2937</th>\n",
       "      <td>1.0</td>\n",
       "      <td>1.68</td>\n",
       "      <td>79.0</td>\n",
       "      <td>1483</td>\n",
       "      <td>25.5</td>\n",
       "      <td>78.0</td>\n",
       "      <td>7.10</td>\n",
       "      <td>43.5</td>\n",
       "      <td>547.358879</td>\n",
       "      <td>12222251.0</td>\n",
       "      <td>11.0</td>\n",
       "      <td>9.8</td>\n",
       "    </tr>\n",
       "  </tbody>\n",
       "</table>\n",
       "<p>1649 rows × 12 columns</p>\n",
       "</div>"
      ],
      "text/plain": [
       "      const  Alcohol  Hepatitis B  Measles    BMI   Polio  Total expenditure  \\\n",
       "0       1.0     0.01         65.0      1154   19.1    6.0               8.16   \n",
       "1       1.0     0.01         62.0       492   18.6   58.0               8.18   \n",
       "2       1.0     0.01         64.0       430   18.1   62.0               8.13   \n",
       "3       1.0     0.01         67.0      2787   17.6   67.0               8.52   \n",
       "4       1.0     0.01         68.0      3013   17.2   68.0               7.87   \n",
       "...     ...      ...          ...       ...    ...    ...                ...   \n",
       "2933    1.0     4.36         68.0        31   27.1   67.0               7.13   \n",
       "2934    1.0     4.06          7.0       998   26.7    7.0               6.52   \n",
       "2935    1.0     4.43         73.0       304   26.3   73.0               6.53   \n",
       "2936    1.0     1.72         76.0       529   25.9   76.0               6.16   \n",
       "2937    1.0     1.68         79.0      1483   25.5   78.0               7.10   \n",
       "\n",
       "       HIV/AIDS         GDP  Population   thinness  1-19 years  Schooling  \n",
       "0           0.1  584.259210  33736494.0                   17.2       10.1  \n",
       "1           0.1  612.696514    327582.0                   17.5       10.0  \n",
       "2           0.1  631.744976  31731688.0                   17.7        9.9  \n",
       "3           0.1  669.959000   3696958.0                   17.9        9.8  \n",
       "4           0.1   63.537231   2978599.0                   18.2        9.5  \n",
       "...         ...         ...         ...                    ...        ...  \n",
       "2933       33.6  454.366654  12777511.0                    9.4        9.2  \n",
       "2934       36.7  453.351155  12633897.0                    9.8        9.5  \n",
       "2935       39.8   57.348340    125525.0                    1.2       10.0  \n",
       "2936       42.1  548.587312  12366165.0                    1.6        9.8  \n",
       "2937       43.5  547.358879  12222251.0                   11.0        9.8  \n",
       "\n",
       "[1649 rows x 12 columns]"
      ]
     },
     "execution_count": 44,
     "metadata": {},
     "output_type": "execute_result"
    }
   ],
   "source": [
    "# need this for the bias term (the constant)\n",
    "X_augmented = sm.add_constant(X)\n",
    "X_augmented"
   ]
  },
  {
   "cell_type": "code",
   "execution_count": 45,
   "id": "44050392",
   "metadata": {
    "slideshow": {
     "slide_type": "subslide"
    }
   },
   "outputs": [],
   "source": [
    "results = sm.OLS(y, X_augmented).fit()"
   ]
  },
  {
   "cell_type": "markdown",
   "metadata": {
    "slideshow": {
     "slide_type": "subslide"
    }
   },
   "source": [
    "Get the slopes for each variable and the constant term:"
   ]
  },
  {
   "cell_type": "code",
   "execution_count": 46,
   "id": "e45dcad5",
   "metadata": {
    "scrolled": true,
    "slideshow": {
     "slide_type": "fragment"
    }
   },
   "outputs": [
    {
     "data": {
      "text/plain": [
       "const                    4.751520e+01\n",
       "Alcohol                 -1.106528e-01\n",
       "Hepatitis B             -4.152893e-04\n",
       "Measles                  2.067782e-05\n",
       " BMI                     5.474011e-02\n",
       "Polio                    2.755880e-02\n",
       "Total expenditure        9.030953e-02\n",
       " HIV/AIDS               -6.345569e-01\n",
       "GDP                      9.876450e-05\n",
       "Population               1.037370e-09\n",
       " thinness  1-19 years   -9.933873e-02\n",
       "Schooling                1.528351e+00\n",
       "dtype: float64"
      ]
     },
     "execution_count": 46,
     "metadata": {},
     "output_type": "execute_result"
    }
   ],
   "source": [
    "results.params"
   ]
  },
  {
   "cell_type": "markdown",
   "metadata": {
    "slideshow": {
     "slide_type": "slide"
    }
   },
   "source": [
    "Get the $R^2$ value."
   ]
  },
  {
   "cell_type": "code",
   "execution_count": 47,
   "id": "4ae2c8e7",
   "metadata": {
    "slideshow": {
     "slide_type": "fragment"
    }
   },
   "outputs": [
    {
     "data": {
      "text/plain": [
       "0.7630369259261873"
      ]
     },
     "execution_count": 47,
     "metadata": {},
     "output_type": "execute_result"
    }
   ],
   "source": [
    "results.rsquared"
   ]
  },
  {
   "cell_type": "markdown",
   "metadata": {
    "slideshow": {
     "slide_type": "fragment"
    }
   },
   "source": [
    "Is this good or bad?"
   ]
  },
  {
   "cell_type": "markdown",
   "metadata": {
    "cell_style": "split",
    "slideshow": {
     "slide_type": "slide"
    }
   },
   "source": [
    "In multiple linear regression,  **adjusted** $R^2$ can be useful:\n",
    "\n",
    "- Clearly penalizes you for using more variables.\n",
    "- Consequence of adding a useless feature:\n",
    "    - $R^2$ the same\n",
    "    - **adjusted** $R^2$ drops."
   ]
  },
  {
   "cell_type": "markdown",
   "metadata": {
    "cell_style": "split",
    "slideshow": {
     "slide_type": "fragment"
    }
   },
   "source": [
    "$$ R^2 = 1 - \\frac{ \\sum_i (y_i - \\hat{y}_i)^2/(n-1)}{Var(Y)} $$ \n",
    "\n",
    "$$ R^2_{adj}  = 1 - \\frac{\\frac{\\sum_i (y_i - \\hat{y}_i)^2}{(n - K - 1)}}{Var(Y)} $$"
   ]
  },
  {
   "cell_type": "markdown",
   "metadata": {
    "cell_style": "split",
    "slideshow": {
     "slide_type": "-"
    }
   },
   "source": [
    "where $K$ is the number of features in the model."
   ]
  },
  {
   "cell_type": "code",
   "execution_count": 50,
   "id": "67e1ea6c",
   "metadata": {
    "slideshow": {
     "slide_type": "subslide"
    }
   },
   "outputs": [
    {
     "data": {
      "text/plain": [
       "0.7614446267112747"
      ]
     },
     "execution_count": 50,
     "metadata": {},
     "output_type": "execute_result"
    }
   ],
   "source": [
    "results.rsquared_adj"
   ]
  },
  {
   "cell_type": "markdown",
   "metadata": {
    "slideshow": {
     "slide_type": "subslide"
    }
   },
   "source": [
    "Using this adjusted $R^2$ metric only helps when:\n",
    "- your sample size N is small.\n",
    "- OR when number of features K comparable to N."
   ]
  },
  {
   "cell_type": "markdown",
   "metadata": {
    "slideshow": {
     "slide_type": "slide"
    }
   },
   "source": [
    "#### Problem of dependent variable scale"
   ]
  },
  {
   "cell_type": "code",
   "execution_count": 28,
   "metadata": {
    "slideshow": {
     "slide_type": "fragment"
    }
   },
   "outputs": [
    {
     "data": {
      "text/html": [
       "<div>\n",
       "<style scoped>\n",
       "    .dataframe tbody tr th:only-of-type {\n",
       "        vertical-align: middle;\n",
       "    }\n",
       "\n",
       "    .dataframe tbody tr th {\n",
       "        vertical-align: top;\n",
       "    }\n",
       "\n",
       "    .dataframe thead th {\n",
       "        text-align: right;\n",
       "    }\n",
       "</style>\n",
       "<table border=\"1\" class=\"dataframe\">\n",
       "  <thead>\n",
       "    <tr style=\"text-align: right;\">\n",
       "      <th></th>\n",
       "      <th>Alcohol</th>\n",
       "      <th>Hepatitis B</th>\n",
       "      <th>Measles</th>\n",
       "      <th>BMI</th>\n",
       "      <th>Polio</th>\n",
       "      <th>Total expenditure</th>\n",
       "      <th>HIV/AIDS</th>\n",
       "      <th>GDP</th>\n",
       "      <th>Population</th>\n",
       "      <th>thinness  1-19 years</th>\n",
       "      <th>Schooling</th>\n",
       "    </tr>\n",
       "  </thead>\n",
       "  <tbody>\n",
       "    <tr>\n",
       "      <th>count</th>\n",
       "      <td>1649.000000</td>\n",
       "      <td>1649.000000</td>\n",
       "      <td>1649.000000</td>\n",
       "      <td>1649.000000</td>\n",
       "      <td>1649.000000</td>\n",
       "      <td>1649.000000</td>\n",
       "      <td>1649.000000</td>\n",
       "      <td>1649.000000</td>\n",
       "      <td>1.649000e+03</td>\n",
       "      <td>1649.000000</td>\n",
       "      <td>1649.000000</td>\n",
       "    </tr>\n",
       "    <tr>\n",
       "      <th>mean</th>\n",
       "      <td>4.533196</td>\n",
       "      <td>79.217708</td>\n",
       "      <td>2224.494239</td>\n",
       "      <td>38.128623</td>\n",
       "      <td>83.564585</td>\n",
       "      <td>5.955925</td>\n",
       "      <td>1.983869</td>\n",
       "      <td>5566.031887</td>\n",
       "      <td>1.465363e+07</td>\n",
       "      <td>4.850637</td>\n",
       "      <td>12.119891</td>\n",
       "    </tr>\n",
       "    <tr>\n",
       "      <th>std</th>\n",
       "      <td>4.029189</td>\n",
       "      <td>25.604664</td>\n",
       "      <td>10085.802019</td>\n",
       "      <td>19.754249</td>\n",
       "      <td>22.450557</td>\n",
       "      <td>2.299385</td>\n",
       "      <td>6.032360</td>\n",
       "      <td>11475.900117</td>\n",
       "      <td>7.046039e+07</td>\n",
       "      <td>4.599228</td>\n",
       "      <td>2.795388</td>\n",
       "    </tr>\n",
       "    <tr>\n",
       "      <th>min</th>\n",
       "      <td>0.010000</td>\n",
       "      <td>2.000000</td>\n",
       "      <td>0.000000</td>\n",
       "      <td>2.000000</td>\n",
       "      <td>3.000000</td>\n",
       "      <td>0.740000</td>\n",
       "      <td>0.100000</td>\n",
       "      <td>1.681350</td>\n",
       "      <td>3.400000e+01</td>\n",
       "      <td>0.100000</td>\n",
       "      <td>4.200000</td>\n",
       "    </tr>\n",
       "    <tr>\n",
       "      <th>25%</th>\n",
       "      <td>0.810000</td>\n",
       "      <td>74.000000</td>\n",
       "      <td>0.000000</td>\n",
       "      <td>19.500000</td>\n",
       "      <td>81.000000</td>\n",
       "      <td>4.410000</td>\n",
       "      <td>0.100000</td>\n",
       "      <td>462.149650</td>\n",
       "      <td>1.918970e+05</td>\n",
       "      <td>1.600000</td>\n",
       "      <td>10.300000</td>\n",
       "    </tr>\n",
       "    <tr>\n",
       "      <th>50%</th>\n",
       "      <td>3.790000</td>\n",
       "      <td>89.000000</td>\n",
       "      <td>15.000000</td>\n",
       "      <td>43.700000</td>\n",
       "      <td>93.000000</td>\n",
       "      <td>5.840000</td>\n",
       "      <td>0.100000</td>\n",
       "      <td>1592.572182</td>\n",
       "      <td>1.419631e+06</td>\n",
       "      <td>3.000000</td>\n",
       "      <td>12.300000</td>\n",
       "    </tr>\n",
       "    <tr>\n",
       "      <th>75%</th>\n",
       "      <td>7.340000</td>\n",
       "      <td>96.000000</td>\n",
       "      <td>373.000000</td>\n",
       "      <td>55.800000</td>\n",
       "      <td>97.000000</td>\n",
       "      <td>7.470000</td>\n",
       "      <td>0.700000</td>\n",
       "      <td>4718.512910</td>\n",
       "      <td>7.658972e+06</td>\n",
       "      <td>7.100000</td>\n",
       "      <td>14.000000</td>\n",
       "    </tr>\n",
       "    <tr>\n",
       "      <th>max</th>\n",
       "      <td>17.870000</td>\n",
       "      <td>99.000000</td>\n",
       "      <td>131441.000000</td>\n",
       "      <td>77.100000</td>\n",
       "      <td>99.000000</td>\n",
       "      <td>14.390000</td>\n",
       "      <td>50.600000</td>\n",
       "      <td>119172.741800</td>\n",
       "      <td>1.293859e+09</td>\n",
       "      <td>27.200000</td>\n",
       "      <td>20.700000</td>\n",
       "    </tr>\n",
       "  </tbody>\n",
       "</table>\n",
       "</div>"
      ],
      "text/plain": [
       "           Alcohol  Hepatitis B       Measles          BMI         Polio  \\\n",
       "count  1649.000000  1649.000000    1649.000000  1649.000000  1649.000000   \n",
       "mean      4.533196    79.217708    2224.494239    38.128623    83.564585   \n",
       "std       4.029189    25.604664   10085.802019    19.754249    22.450557   \n",
       "min       0.010000     2.000000       0.000000     2.000000     3.000000   \n",
       "25%       0.810000    74.000000       0.000000    19.500000    81.000000   \n",
       "50%       3.790000    89.000000      15.000000    43.700000    93.000000   \n",
       "75%       7.340000    96.000000     373.000000    55.800000    97.000000   \n",
       "max      17.870000    99.000000  131441.000000    77.100000    99.000000   \n",
       "\n",
       "       Total expenditure     HIV/AIDS            GDP    Population  \\\n",
       "count        1649.000000  1649.000000    1649.000000  1.649000e+03   \n",
       "mean            5.955925     1.983869    5566.031887  1.465363e+07   \n",
       "std             2.299385     6.032360   11475.900117  7.046039e+07   \n",
       "min             0.740000     0.100000       1.681350  3.400000e+01   \n",
       "25%             4.410000     0.100000     462.149650  1.918970e+05   \n",
       "50%             5.840000     0.100000    1592.572182  1.419631e+06   \n",
       "75%             7.470000     0.700000    4718.512910  7.658972e+06   \n",
       "max            14.390000    50.600000  119172.741800  1.293859e+09   \n",
       "\n",
       "        thinness  1-19 years    Schooling  \n",
       "count            1649.000000  1649.000000  \n",
       "mean                4.850637    12.119891  \n",
       "std                 4.599228     2.795388  \n",
       "min                 0.100000     4.200000  \n",
       "25%                 1.600000    10.300000  \n",
       "50%                 3.000000    12.300000  \n",
       "75%                 7.100000    14.000000  \n",
       "max                27.200000    20.700000  "
      ]
     },
     "execution_count": 28,
     "metadata": {},
     "output_type": "execute_result"
    }
   ],
   "source": [
    "X.describe()"
   ]
  },
  {
   "cell_type": "markdown",
   "metadata": {
    "slideshow": {
     "slide_type": "fragment"
    }
   },
   "source": [
    "All these variables are on totally different numerical scales."
   ]
  },
  {
   "cell_type": "code",
   "execution_count": 29,
   "metadata": {
    "cell_style": "split",
    "slideshow": {
     "slide_type": "slide"
    }
   },
   "outputs": [
    {
     "data": {
      "text/plain": [
       "const                    4.751520e+01\n",
       "Alcohol                 -1.106528e-01\n",
       "Hepatitis B             -4.152893e-04\n",
       "Measles                  2.067782e-05\n",
       " BMI                     5.474011e-02\n",
       "Polio                    2.755880e-02\n",
       "Total expenditure        9.030953e-02\n",
       " HIV/AIDS               -6.345569e-01\n",
       "GDP                      9.876450e-05\n",
       "Population               1.037370e-09\n",
       " thinness  1-19 years   -9.933873e-02\n",
       "Schooling                1.528351e+00\n",
       "dtype: float64"
      ]
     },
     "execution_count": 29,
     "metadata": {},
     "output_type": "execute_result"
    }
   ],
   "source": [
    "results.params"
   ]
  },
  {
   "cell_type": "markdown",
   "metadata": {
    "cell_style": "split",
    "slideshow": {
     "slide_type": "fragment"
    }
   },
   "source": [
    "**The problem**\n",
    "\n",
    "- The coefficients we fit to are the true slope, yes.\n",
    "- But totally different scales.\n",
    "- May want weights on comparable scale to compare influence of features on target."
   ]
  },
  {
   "cell_type": "markdown",
   "metadata": {
    "slideshow": {
     "slide_type": "slide"
    }
   },
   "source": [
    "Standardize the features:\n",
    "\n",
    "$$ x_j \\rightarrow \\frac{x_j -\\mu_j}{\\sigma_j} $$\n",
    "\n",
    "Centers the jth feature about the feature's mean and rescales by the standard deviation for observations.\n",
    "- Now permissible to compare weights (regression coefficients) that our models spit out to each other."
   ]
  },
  {
   "cell_type": "code",
   "execution_count": 51,
   "id": "01fdce31",
   "metadata": {
    "slideshow": {
     "slide_type": "fragment"
    }
   },
   "outputs": [],
   "source": [
    "def standardizer(col):\n",
    "    col_standardized = (col - col.mean())/col.std()\n",
    "    return col_standardized"
   ]
  },
  {
   "cell_type": "markdown",
   "metadata": {
    "slideshow": {
     "slide_type": "slide"
    }
   },
   "source": [
    "What pandas method can we use on X to standardized the columns?"
   ]
  },
  {
   "cell_type": "code",
   "execution_count": 52,
   "id": "c695b618",
   "metadata": {
    "cell_style": "center",
    "slideshow": {
     "slide_type": "fragment"
    }
   },
   "outputs": [],
   "source": [
    "X_standard = X.apply(lambda x: (x-x.mean())/ x.std())"
   ]
  },
  {
   "cell_type": "code",
   "execution_count": 53,
   "id": "db7336a6",
   "metadata": {
    "scrolled": true,
    "slideshow": {
     "slide_type": "fragment"
    }
   },
   "outputs": [
    {
     "data": {
      "text/html": [
       "<div>\n",
       "<style scoped>\n",
       "    .dataframe tbody tr th:only-of-type {\n",
       "        vertical-align: middle;\n",
       "    }\n",
       "\n",
       "    .dataframe tbody tr th {\n",
       "        vertical-align: top;\n",
       "    }\n",
       "\n",
       "    .dataframe thead th {\n",
       "        text-align: right;\n",
       "    }\n",
       "</style>\n",
       "<table border=\"1\" class=\"dataframe\">\n",
       "  <thead>\n",
       "    <tr style=\"text-align: right;\">\n",
       "      <th></th>\n",
       "      <th>Alcohol</th>\n",
       "      <th>Hepatitis B</th>\n",
       "      <th>Measles</th>\n",
       "      <th>BMI</th>\n",
       "      <th>Polio</th>\n",
       "      <th>Total expenditure</th>\n",
       "      <th>HIV/AIDS</th>\n",
       "      <th>GDP</th>\n",
       "      <th>Population</th>\n",
       "      <th>thinness  1-19 years</th>\n",
       "      <th>Schooling</th>\n",
       "    </tr>\n",
       "  </thead>\n",
       "  <tbody>\n",
       "    <tr>\n",
       "      <th>count</th>\n",
       "      <td>1.649000e+03</td>\n",
       "      <td>1.649000e+03</td>\n",
       "      <td>1.649000e+03</td>\n",
       "      <td>1.649000e+03</td>\n",
       "      <td>1.649000e+03</td>\n",
       "      <td>1.649000e+03</td>\n",
       "      <td>1.649000e+03</td>\n",
       "      <td>1.649000e+03</td>\n",
       "      <td>1.649000e+03</td>\n",
       "      <td>1.649000e+03</td>\n",
       "      <td>1.649000e+03</td>\n",
       "    </tr>\n",
       "    <tr>\n",
       "      <th>mean</th>\n",
       "      <td>7.756076e-17</td>\n",
       "      <td>1.755889e-16</td>\n",
       "      <td>-8.617862e-18</td>\n",
       "      <td>-6.894290e-17</td>\n",
       "      <td>2.316050e-16</td>\n",
       "      <td>1.637394e-16</td>\n",
       "      <td>3.447145e-17</td>\n",
       "      <td>9.479648e-17</td>\n",
       "      <td>-2.154466e-17</td>\n",
       "      <td>1.206501e-16</td>\n",
       "      <td>7.928433e-16</td>\n",
       "    </tr>\n",
       "    <tr>\n",
       "      <th>std</th>\n",
       "      <td>1.000000e+00</td>\n",
       "      <td>1.000000e+00</td>\n",
       "      <td>1.000000e+00</td>\n",
       "      <td>1.000000e+00</td>\n",
       "      <td>1.000000e+00</td>\n",
       "      <td>1.000000e+00</td>\n",
       "      <td>1.000000e+00</td>\n",
       "      <td>1.000000e+00</td>\n",
       "      <td>1.000000e+00</td>\n",
       "      <td>1.000000e+00</td>\n",
       "      <td>1.000000e+00</td>\n",
       "    </tr>\n",
       "    <tr>\n",
       "      <th>min</th>\n",
       "      <td>-1.122607e+00</td>\n",
       "      <td>-3.015767e+00</td>\n",
       "      <td>-2.205570e-01</td>\n",
       "      <td>-1.828904e+00</td>\n",
       "      <td>-3.588534e+00</td>\n",
       "      <td>-2.268400e+00</td>\n",
       "      <td>-3.122939e-01</td>\n",
       "      <td>-4.848727e-01</td>\n",
       "      <td>-2.079692e-01</td>\n",
       "      <td>-1.032920e+00</td>\n",
       "      <td>-2.833200e+00</td>\n",
       "    </tr>\n",
       "    <tr>\n",
       "      <th>25%</th>\n",
       "      <td>-9.240559e-01</td>\n",
       "      <td>-2.037796e-01</td>\n",
       "      <td>-2.205570e-01</td>\n",
       "      <td>-9.430185e-01</td>\n",
       "      <td>-1.142326e-01</td>\n",
       "      <td>-6.723209e-01</td>\n",
       "      <td>-3.122939e-01</td>\n",
       "      <td>-4.447479e-01</td>\n",
       "      <td>-2.052462e-01</td>\n",
       "      <td>-7.067787e-01</td>\n",
       "      <td>-6.510335e-01</td>\n",
       "    </tr>\n",
       "    <tr>\n",
       "      <th>50%</th>\n",
       "      <td>-1.844530e-01</td>\n",
       "      <td>3.820512e-01</td>\n",
       "      <td>-2.190698e-01</td>\n",
       "      <td>2.820343e-01</td>\n",
       "      <td>4.202753e-01</td>\n",
       "      <td>-5.041556e-02</td>\n",
       "      <td>-3.122939e-01</td>\n",
       "      <td>-3.462438e-01</td>\n",
       "      <td>-1.878218e-01</td>\n",
       "      <td>-4.023798e-01</td>\n",
       "      <td>6.443084e-02</td>\n",
       "    </tr>\n",
       "    <tr>\n",
       "      <th>75%</th>\n",
       "      <td>6.966176e-01</td>\n",
       "      <td>6.554389e-01</td>\n",
       "      <td>-1.835743e-01</td>\n",
       "      <td>8.945608e-01</td>\n",
       "      <td>5.984446e-01</td>\n",
       "      <td>6.584695e-01</td>\n",
       "      <td>-2.128303e-01</td>\n",
       "      <td>-7.385207e-02</td>\n",
       "      <td>-9.927072e-02</td>\n",
       "      <td>4.890741e-01</td>\n",
       "      <td>6.725755e-01</td>\n",
       "    </tr>\n",
       "    <tr>\n",
       "      <th>max</th>\n",
       "      <td>3.310047e+00</td>\n",
       "      <td>7.726050e-01</td>\n",
       "      <td>1.281172e+01</td>\n",
       "      <td>1.972810e+00</td>\n",
       "      <td>6.875293e-01</td>\n",
       "      <td>3.667969e+00</td>\n",
       "      <td>8.059223e+00</td>\n",
       "      <td>9.899590e+00</td>\n",
       "      <td>1.815496e+01</td>\n",
       "      <td>4.859372e+00</td>\n",
       "      <td>3.069381e+00</td>\n",
       "    </tr>\n",
       "  </tbody>\n",
       "</table>\n",
       "</div>"
      ],
      "text/plain": [
       "            Alcohol   Hepatitis B      Measles           BMI          Polio  \\\n",
       "count  1.649000e+03  1.649000e+03  1.649000e+03  1.649000e+03  1.649000e+03   \n",
       "mean   7.756076e-17  1.755889e-16 -8.617862e-18 -6.894290e-17  2.316050e-16   \n",
       "std    1.000000e+00  1.000000e+00  1.000000e+00  1.000000e+00  1.000000e+00   \n",
       "min   -1.122607e+00 -3.015767e+00 -2.205570e-01 -1.828904e+00 -3.588534e+00   \n",
       "25%   -9.240559e-01 -2.037796e-01 -2.205570e-01 -9.430185e-01 -1.142326e-01   \n",
       "50%   -1.844530e-01  3.820512e-01 -2.190698e-01  2.820343e-01  4.202753e-01   \n",
       "75%    6.966176e-01  6.554389e-01 -1.835743e-01  8.945608e-01  5.984446e-01   \n",
       "max    3.310047e+00  7.726050e-01  1.281172e+01  1.972810e+00  6.875293e-01   \n",
       "\n",
       "       Total expenditure      HIV/AIDS           GDP    Population  \\\n",
       "count       1.649000e+03  1.649000e+03  1.649000e+03  1.649000e+03   \n",
       "mean        1.637394e-16  3.447145e-17  9.479648e-17 -2.154466e-17   \n",
       "std         1.000000e+00  1.000000e+00  1.000000e+00  1.000000e+00   \n",
       "min        -2.268400e+00 -3.122939e-01 -4.848727e-01 -2.079692e-01   \n",
       "25%        -6.723209e-01 -3.122939e-01 -4.447479e-01 -2.052462e-01   \n",
       "50%        -5.041556e-02 -3.122939e-01 -3.462438e-01 -1.878218e-01   \n",
       "75%         6.584695e-01 -2.128303e-01 -7.385207e-02 -9.927072e-02   \n",
       "max         3.667969e+00  8.059223e+00  9.899590e+00  1.815496e+01   \n",
       "\n",
       "        thinness  1-19 years     Schooling  \n",
       "count           1.649000e+03  1.649000e+03  \n",
       "mean            1.206501e-16  7.928433e-16  \n",
       "std             1.000000e+00  1.000000e+00  \n",
       "min            -1.032920e+00 -2.833200e+00  \n",
       "25%            -7.067787e-01 -6.510335e-01  \n",
       "50%            -4.023798e-01  6.443084e-02  \n",
       "75%             4.890741e-01  6.725755e-01  \n",
       "max             4.859372e+00  3.069381e+00  "
      ]
     },
     "execution_count": 53,
     "metadata": {},
     "output_type": "execute_result"
    }
   ],
   "source": [
    "X_standard.describe()"
   ]
  },
  {
   "cell_type": "markdown",
   "metadata": {
    "slideshow": {
     "slide_type": "slide"
    }
   },
   "source": [
    "Let's create that row of ones for the constant value."
   ]
  },
  {
   "cell_type": "code",
   "execution_count": 54,
   "id": "a52a9f73",
   "metadata": {
    "slideshow": {
     "slide_type": "fragment"
    }
   },
   "outputs": [],
   "source": [
    "X_standard_aug = sm.add_constant(X_standard)"
   ]
  },
  {
   "cell_type": "markdown",
   "metadata": {
    "slideshow": {
     "slide_type": "slide"
    }
   },
   "source": [
    "Fit the model"
   ]
  },
  {
   "cell_type": "code",
   "execution_count": 56,
   "id": "7e7aff3f",
   "metadata": {
    "slideshow": {
     "slide_type": "fragment"
    }
   },
   "outputs": [],
   "source": [
    "# define/fit statsmodel ordinary least squares model\n",
    "results_standardized = sm.OLS(y, X_standard_aug).fit()"
   ]
  },
  {
   "cell_type": "markdown",
   "metadata": {
    "slideshow": {
     "slide_type": "slide"
    }
   },
   "source": [
    "Now calculate the parameters"
   ]
  },
  {
   "cell_type": "code",
   "execution_count": 57,
   "id": "25d5b6c1",
   "metadata": {
    "slideshow": {
     "slide_type": "fragment"
    }
   },
   "outputs": [
    {
     "data": {
      "text/plain": [
       "const                    69.302304\n",
       "Alcohol                  -0.445841\n",
       "Hepatitis B              -0.010633\n",
       "Measles                   0.208552\n",
       " BMI                      1.081350\n",
       "Polio                     0.618710\n",
       "Total expenditure         0.207656\n",
       " HIV/AIDS                -3.827876\n",
       "GDP                       1.133412\n",
       "Population                0.073093\n",
       " thinness  1-19 years    -0.456881\n",
       "Schooling                 4.272332\n",
       "dtype: float64"
      ]
     },
     "execution_count": 57,
     "metadata": {},
     "output_type": "execute_result"
    }
   ],
   "source": [
    "weights = results_standardized.params\n",
    "weights"
   ]
  },
  {
   "cell_type": "markdown",
   "metadata": {
    "slideshow": {
     "slide_type": "slide"
    }
   },
   "source": [
    "Visualizing the weights"
   ]
  },
  {
   "cell_type": "code",
   "execution_count": 37,
   "metadata": {
    "slideshow": {
     "slide_type": "fragment"
    }
   },
   "outputs": [
    {
     "data": {
      "image/png": "[encoded data removed]",
      "text/plain": [
       "<Figure size 720x360 with 1 Axes>"
      ]
     },
     "metadata": {
      "needs_background": "light"
     },
     "output_type": "display_data"
    }
   ],
   "source": [
    "plt.figure(figsize=(10,5))\n",
    "sns.barplot(y = weights[1::].index, x = weights[1::].values)\n",
    "plt.title(\"Weights for factors correlating with life expectancy\")\n",
    "plt.ylabel('Weight')\n",
    "plt.show()"
   ]
  },
  {
   "cell_type": "markdown",
   "metadata": {
    "slideshow": {
     "slide_type": "fragment"
    }
   },
   "source": [
    "Does this make sense?"
   ]
  },
  {
   "cell_type": "markdown",
   "metadata": {
    "slideshow": {
     "slide_type": "slide"
    }
   },
   "source": [
    "Evaluate $ R^2 $:"
   ]
  },
  {
   "cell_type": "code",
   "execution_count": 58,
   "id": "0b04546b",
   "metadata": {
    "slideshow": {
     "slide_type": "fragment"
    }
   },
   "outputs": [
    {
     "data": {
      "text/plain": [
       "0.7630369259261873"
      ]
     },
     "execution_count": 58,
     "metadata": {},
     "output_type": "execute_result"
    }
   ],
   "source": [
    "results_standardized.rsquared"
   ]
  },
  {
   "cell_type": "markdown",
   "metadata": {
    "slideshow": {
     "slide_type": "slide"
    }
   },
   "source": [
    "Now let's take a look at the summary:"
   ]
  },
  {
   "cell_type": "code",
   "execution_count": 39,
   "metadata": {
    "slideshow": {
     "slide_type": "subslide"
    }
   },
   "outputs": [
    {
     "data": {
      "text/html": [
       "<table class=\"simpletable\">\n",
       "<caption>OLS Regression Results</caption>\n",
       "<tr>\n",
       "  <th>Dep. Variable:</th>    <td>Life expectancy </td> <th>  R-squared:         </th> <td>   0.763</td>\n",
       "</tr>\n",
       "<tr>\n",
       "  <th>Model:</th>                   <td>OLS</td>       <th>  Adj. R-squared:    </th> <td>   0.761</td>\n",
       "</tr>\n",
       "<tr>\n",
       "  <th>Method:</th>             <td>Least Squares</td>  <th>  F-statistic:       </th> <td>   479.2</td>\n",
       "</tr>\n",
       "<tr>\n",
       "  <th>Date:</th>             <td>Tue, 23 May 2023</td> <th>  Prob (F-statistic):</th>  <td>  0.00</td> \n",
       "</tr>\n",
       "<tr>\n",
       "  <th>Time:</th>                 <td>09:59:43</td>     <th>  Log-Likelihood:    </th> <td> -4737.7</td>\n",
       "</tr>\n",
       "<tr>\n",
       "  <th>No. Observations:</th>      <td>  1649</td>      <th>  AIC:               </th> <td>   9499.</td>\n",
       "</tr>\n",
       "<tr>\n",
       "  <th>Df Residuals:</th>          <td>  1637</td>      <th>  BIC:               </th> <td>   9564.</td>\n",
       "</tr>\n",
       "<tr>\n",
       "  <th>Df Model:</th>              <td>    11</td>      <th>                     </th>     <td> </td>   \n",
       "</tr>\n",
       "<tr>\n",
       "  <th>Covariance Type:</th>      <td>nonrobust</td>    <th>                     </th>     <td> </td>   \n",
       "</tr>\n",
       "</table>\n",
       "<table class=\"simpletable\">\n",
       "<tr>\n",
       "            <td></td>               <th>coef</th>     <th>std err</th>      <th>t</th>      <th>P>|t|</th>  <th>[0.025</th>    <th>0.975]</th>  \n",
       "</tr>\n",
       "<tr>\n",
       "  <th>const</th>                 <td>   69.3023</td> <td>    0.106</td> <td>  654.994</td> <td> 0.000</td> <td>   69.095</td> <td>   69.510</td>\n",
       "</tr>\n",
       "<tr>\n",
       "  <th>Alcohol</th>               <td>   -0.4458</td> <td>    0.142</td> <td>   -3.148</td> <td> 0.002</td> <td>   -0.724</td> <td>   -0.168</td>\n",
       "</tr>\n",
       "<tr>\n",
       "  <th>Hepatitis B</th>           <td>   -0.0106</td> <td>    0.122</td> <td>   -0.087</td> <td> 0.930</td> <td>   -0.249</td> <td>    0.228</td>\n",
       "</tr>\n",
       "<tr>\n",
       "  <th>Measles </th>              <td>    0.2086</td> <td>    0.114</td> <td>    1.836</td> <td> 0.066</td> <td>   -0.014</td> <td>    0.431</td>\n",
       "</tr>\n",
       "<tr>\n",
       "  <th> BMI </th>                 <td>    1.0813</td> <td>    0.139</td> <td>    7.791</td> <td> 0.000</td> <td>    0.809</td> <td>    1.354</td>\n",
       "</tr>\n",
       "<tr>\n",
       "  <th>Polio</th>                 <td>    0.6187</td> <td>    0.125</td> <td>    4.946</td> <td> 0.000</td> <td>    0.373</td> <td>    0.864</td>\n",
       "</tr>\n",
       "<tr>\n",
       "  <th>Total expenditure</th>     <td>    0.2077</td> <td>    0.111</td> <td>    1.863</td> <td> 0.063</td> <td>   -0.011</td> <td>    0.426</td>\n",
       "</tr>\n",
       "<tr>\n",
       "  <th> HIV/AIDS</th>             <td>   -3.8279</td> <td>    0.112</td> <td>  -34.321</td> <td> 0.000</td> <td>   -4.047</td> <td>   -3.609</td>\n",
       "</tr>\n",
       "<tr>\n",
       "  <th>GDP</th>                   <td>    1.1334</td> <td>    0.124</td> <td>    9.172</td> <td> 0.000</td> <td>    0.891</td> <td>    1.376</td>\n",
       "</tr>\n",
       "<tr>\n",
       "  <th>Population</th>            <td>    0.0731</td> <td>    0.117</td> <td>    0.623</td> <td> 0.533</td> <td>   -0.157</td> <td>    0.303</td>\n",
       "</tr>\n",
       "<tr>\n",
       "  <th> thinness  1-19 years</th> <td>   -0.4569</td> <td>    0.140</td> <td>   -3.259</td> <td> 0.001</td> <td>   -0.732</td> <td>   -0.182</td>\n",
       "</tr>\n",
       "<tr>\n",
       "  <th>Schooling</th>             <td>    4.2723</td> <td>    0.165</td> <td>   25.933</td> <td> 0.000</td> <td>    3.949</td> <td>    4.595</td>\n",
       "</tr>\n",
       "</table>\n",
       "<table class=\"simpletable\">\n",
       "<tr>\n",
       "  <th>Omnibus:</th>       <td>19.735</td> <th>  Durbin-Watson:     </th> <td>   0.437</td>\n",
       "</tr>\n",
       "<tr>\n",
       "  <th>Prob(Omnibus):</th> <td> 0.000</td> <th>  Jarque-Bera (JB):  </th> <td>  23.292</td>\n",
       "</tr>\n",
       "<tr>\n",
       "  <th>Skew:</th>          <td>-0.193</td> <th>  Prob(JB):          </th> <td>8.76e-06</td>\n",
       "</tr>\n",
       "<tr>\n",
       "  <th>Kurtosis:</th>      <td> 3.436</td> <th>  Cond. No.          </th> <td>    3.28</td>\n",
       "</tr>\n",
       "</table><br/><br/>Notes:<br/>[1] Standard Errors assume that the covariance matrix of the errors is correctly specified."
      ],
      "text/plain": [
       "<class 'statsmodels.iolib.summary.Summary'>\n",
       "\"\"\"\n",
       "                            OLS Regression Results                            \n",
       "==============================================================================\n",
       "Dep. Variable:       Life expectancy    R-squared:                       0.763\n",
       "Model:                            OLS   Adj. R-squared:                  0.761\n",
       "Method:                 Least Squares   F-statistic:                     479.2\n",
       "Date:                Tue, 23 May 2023   Prob (F-statistic):               0.00\n",
       "Time:                        09:59:43   Log-Likelihood:                -4737.7\n",
       "No. Observations:                1649   AIC:                             9499.\n",
       "Df Residuals:                    1637   BIC:                             9564.\n",
       "Df Model:                          11                                         \n",
       "Covariance Type:            nonrobust                                         \n",
       "=========================================================================================\n",
       "                            coef    std err          t      P>|t|      [0.025      0.975]\n",
       "-----------------------------------------------------------------------------------------\n",
       "const                    69.3023      0.106    654.994      0.000      69.095      69.510\n",
       "Alcohol                  -0.4458      0.142     -3.148      0.002      -0.724      -0.168\n",
       "Hepatitis B              -0.0106      0.122     -0.087      0.930      -0.249       0.228\n",
       "Measles                   0.2086      0.114      1.836      0.066      -0.014       0.431\n",
       " BMI                      1.0813      0.139      7.791      0.000       0.809       1.354\n",
       "Polio                     0.6187      0.125      4.946      0.000       0.373       0.864\n",
       "Total expenditure         0.2077      0.111      1.863      0.063      -0.011       0.426\n",
       " HIV/AIDS                -3.8279      0.112    -34.321      0.000      -4.047      -3.609\n",
       "GDP                       1.1334      0.124      9.172      0.000       0.891       1.376\n",
       "Population                0.0731      0.117      0.623      0.533      -0.157       0.303\n",
       " thinness  1-19 years    -0.4569      0.140     -3.259      0.001      -0.732      -0.182\n",
       "Schooling                 4.2723      0.165     25.933      0.000       3.949       4.595\n",
       "==============================================================================\n",
       "Omnibus:                       19.735   Durbin-Watson:                   0.437\n",
       "Prob(Omnibus):                  0.000   Jarque-Bera (JB):               23.292\n",
       "Skew:                          -0.193   Prob(JB):                     8.76e-06\n",
       "Kurtosis:                       3.436   Cond. No.                         3.28\n",
       "==============================================================================\n",
       "\n",
       "Notes:\n",
       "[1] Standard Errors assume that the covariance matrix of the errors is correctly specified.\n",
       "\"\"\""
      ]
     },
     "execution_count": 39,
     "metadata": {},
     "output_type": "execute_result"
    }
   ],
   "source": [
    "results_standardized.summary()"
   ]
  },
  {
   "cell_type": "markdown",
   "metadata": {
    "slideshow": {
     "slide_type": "slide"
    }
   },
   "source": [
    "What should we tell the King are likely some areas that generally affect life expectancy throughout the world?"
   ]
  },
  {
   "cell_type": "markdown",
   "metadata": {
    "slideshow": {
     "slide_type": "slide"
    }
   },
   "source": [
    "In future lectures: \n",
    "- inference vs prediction.\n",
    "- building regression models that perform well in prediction.\n",
    "- using categorical variables as features in a regression.\n",
    "    \n"
   ]
  }
 ],
 "metadata": {
  "celltoolbar": "Slideshow",
  "interpreter": {
   "hash": "95508d1f9e276930ee7bf977622471e4c9572bc985693ed5ef89eacdfe75f4af"
  },
  "kernelspec": {
   "display_name": "Python 3",
   "language": "python",
   "name": "python3"
  },
  "language_info": {
   "codemirror_mode": {
    "name": "ipython",
    "version": 3
   },
   "file_extension": ".py",
   "mimetype": "text/x-python",
   "name": "python",
   "nbconvert_exporter": "python",
   "pygments_lexer": "ipython3",
   "version": "3.8.5"
  }
 },
 "nbformat": 4,
 "nbformat_minor": 5
}
